{
  "nbformat": 4,
  "nbformat_minor": 0,
  "metadata": {
    "colab": {
      "provenance": [],
      "authorship_tag": "ABX9TyMZCEbg5EncSC5KaRcDKmka",
      "include_colab_link": true
    },
    "kernelspec": {
      "name": "python3",
      "display_name": "Python 3"
    },
    "language_info": {
      "name": "python"
    }
  },
  "cells": [
    {
      "cell_type": "markdown",
      "metadata": {
        "id": "view-in-github",
        "colab_type": "text"
      },
      "source": [
        "<a href=\"https://colab.research.google.com/github/SANAD343/Numpy/blob/main/Complete_Numpy.ipynb\" target=\"_parent\"><img src=\"https://colab.research.google.com/assets/colab-badge.svg\" alt=\"Open In Colab\"/></a>"
      ]
    },
    {
      "cell_type": "code",
      "execution_count": null,
      "metadata": {
        "id": "YMxBx1CN9aP9"
      },
      "outputs": [],
      "source": [
        "\"\"\"Numpy is stand for numerical python\"\"\""
      ]
    },
    {
      "cell_type": "code",
      "source": [
        "import numpy as np\n",
        "a=np.array([1,2,3,4,5,6]) #example of single dimension array\n",
        "print(a)"
      ],
      "metadata": {
        "colab": {
          "base_uri": "https://localhost:8080/"
        },
        "id": "k8oF__ek9kwN",
        "outputId": "1e75ff24-d803-47bd-b5d8-58ca5dd99303"
      },
      "execution_count": null,
      "outputs": [
        {
          "output_type": "stream",
          "name": "stdout",
          "text": [
            "[1 2 3 4 5 6]\n"
          ]
        }
      ]
    },
    {
      "cell_type": "code",
      "source": [
        "print(a.shape)\n",
        "print(a.size)\n",
        "print(a.ndim)"
      ],
      "metadata": {
        "colab": {
          "base_uri": "https://localhost:8080/"
        },
        "id": "nu6bIw0M9oco",
        "outputId": "80d80952-0408-4874-ea7e-b0ea748291a4"
      },
      "execution_count": null,
      "outputs": [
        {
          "output_type": "stream",
          "name": "stdout",
          "text": [
            "(6,)\n",
            "6\n",
            "1\n"
          ]
        }
      ]
    },
    {
      "cell_type": "code",
      "source": [
        "b=np.array([(1,2,3,4,5,6),(6,4,5,6,7,8),(7,8,9,8,9,87)]) #2-D array\n",
        "print(b)\n",
        "print(b.shape)\n",
        "print(b.size)\n",
        "print(b.ndim)"
      ],
      "metadata": {
        "colab": {
          "base_uri": "https://localhost:8080/"
        },
        "id": "AF8P1m4u9wEA",
        "outputId": "07ee529d-568a-43c4-8a92-dd2fdafd2448"
      },
      "execution_count": null,
      "outputs": [
        {
          "output_type": "stream",
          "name": "stdout",
          "text": [
            "[[ 1  2  3  4  5  6]\n",
            " [ 6  4  5  6  7  8]\n",
            " [ 7  8  9  8  9 87]]\n",
            "(3, 6)\n",
            "18\n",
            "2\n"
          ]
        }
      ]
    },
    {
      "cell_type": "code",
      "source": [
        "c=np.array([[1,2,3],[4,5,6]]) #fetching data from list.\n",
        "print(c)\n",
        "c[1][2]"
      ],
      "metadata": {
        "colab": {
          "base_uri": "https://localhost:8080/"
        },
        "id": "OmFJPsIc96Ik",
        "outputId": "1236f104-1244-49f4-d09b-df6451b97b2c"
      },
      "execution_count": null,
      "outputs": [
        {
          "output_type": "stream",
          "name": "stdout",
          "text": [
            "[[1 2 3]\n",
            " [4 5 6]]\n"
          ]
        },
        {
          "output_type": "execute_result",
          "data": {
            "text/plain": [
              "6"
            ]
          },
          "metadata": {},
          "execution_count": 5
        }
      ]
    },
    {
      "cell_type": "code",
      "source": [
        "c[1,1] #slicing"
      ],
      "metadata": {
        "colab": {
          "base_uri": "https://localhost:8080/"
        },
        "id": "xz-DOaKa9_j-",
        "outputId": "9287f782-0526-45cd-bcb9-fb73daee642c"
      },
      "execution_count": null,
      "outputs": [
        {
          "output_type": "execute_result",
          "data": {
            "text/plain": [
              "5"
            ]
          },
          "metadata": {},
          "execution_count": 6
        }
      ]
    },
    {
      "cell_type": "code",
      "source": [
        "print(c.shape)\n",
        "print(c.size)\n",
        "print(c.max())\n",
        "print(c.min())\n",
        "print(c.sum())\n",
        "print(np.sqrt(c))"
      ],
      "metadata": {
        "colab": {
          "base_uri": "https://localhost:8080/"
        },
        "id": "G1bYBPb4-Fh3",
        "outputId": "962960ad-6f97-495a-df32-dc0a4faba59c"
      },
      "execution_count": null,
      "outputs": [
        {
          "output_type": "stream",
          "name": "stdout",
          "text": [
            "(2, 3)\n",
            "6\n",
            "6\n",
            "1\n",
            "21\n",
            "[[1.         1.41421356 1.73205081]\n",
            " [2.         2.23606798 2.44948974]]\n"
          ]
        }
      ]
    },
    {
      "cell_type": "code",
      "source": [
        "print(c.sum(axis=0))"
      ],
      "metadata": {
        "colab": {
          "base_uri": "https://localhost:8080/"
        },
        "id": "lVfHTLqI-PC7",
        "outputId": "bad2e8ab-74f5-4ce2-c6d6-0f5b9ccfdd43"
      },
      "execution_count": null,
      "outputs": [
        {
          "output_type": "stream",
          "name": "stdout",
          "text": [
            "[5 7 9]\n"
          ]
        }
      ]
    },
    {
      "cell_type": "code",
      "source": [
        "c=np.array([[1,2,3],[4,5,6]])\n",
        "print(c)"
      ],
      "metadata": {
        "colab": {
          "base_uri": "https://localhost:8080/"
        },
        "id": "ly96PXMk-kW7",
        "outputId": "683617fb-7068-4347-9e58-0a687b56b5d5"
      },
      "execution_count": null,
      "outputs": [
        {
          "output_type": "stream",
          "name": "stdout",
          "text": [
            "[[1 2 3]\n",
            " [4 5 6]]\n"
          ]
        }
      ]
    },
    {
      "cell_type": "code",
      "source": [
        "print(c.sum(axis=0))"
      ],
      "metadata": {
        "colab": {
          "base_uri": "https://localhost:8080/"
        },
        "id": "wUa51gTd-mrY",
        "outputId": "bbd0c750-aac8-4247-a270-8ffedd4b5a74"
      },
      "execution_count": null,
      "outputs": [
        {
          "output_type": "stream",
          "name": "stdout",
          "text": [
            "[5 7 9]\n"
          ]
        }
      ]
    },
    {
      "cell_type": "code",
      "source": [
        "print(c.sum(axis=1)) #horizontal wise addition"
      ],
      "metadata": {
        "colab": {
          "base_uri": "https://localhost:8080/"
        },
        "id": "WAl2A_fh-nsU",
        "outputId": "195b2026-50ed-47e5-c859-6181c25acbec"
      },
      "execution_count": null,
      "outputs": [
        {
          "output_type": "stream",
          "name": "stdout",
          "text": [
            "[ 6 15]\n"
          ]
        }
      ]
    },
    {
      "cell_type": "code",
      "source": [
        "#linspace linear spacing\n",
        "a=np.linspace(1,4,10)\n",
        "print(a)"
      ],
      "metadata": {
        "colab": {
          "base_uri": "https://localhost:8080/"
        },
        "id": "asiGNdKt-o9D",
        "outputId": "b5571f85-26e8-4bef-83e7-0e44d9e2a7ff"
      },
      "execution_count": null,
      "outputs": [
        {
          "output_type": "stream",
          "name": "stdout",
          "text": [
            "[1.         1.33333333 1.66666667 2.         2.33333333 2.66666667\n",
            " 3.         3.33333333 3.66666667 4.        ]\n"
          ]
        }
      ]
    },
    {
      "cell_type": "code",
      "source": [
        "import numpy as np\n",
        "a1=np.array([5,7,8]) #1D\n",
        "a2=np.array([[10,50,30],[20,40,60]]) #2d list with list\n",
        "a3=np.array((23,84,28)) #creating an array with a tupple\n",
        "print(a1)\n",
        "print()\n",
        "print(a2)\n",
        "print()\n",
        "print(a3)\n",
        "print()\n",
        "print(a1.shape)\n",
        "print(a2.shape)\n",
        "print(a3.shape)"
      ],
      "metadata": {
        "colab": {
          "base_uri": "https://localhost:8080/"
        },
        "id": "C9yqiooH-qM3",
        "outputId": "c5274a50-177d-4afc-fdc4-fdd3389e01b2"
      },
      "execution_count": null,
      "outputs": [
        {
          "output_type": "stream",
          "name": "stdout",
          "text": [
            "[5 7 8]\n",
            "\n",
            "[[10 50 30]\n",
            " [20 40 60]]\n",
            "\n",
            "[23 84 28]\n",
            "\n",
            "(3,)\n",
            "(2, 3)\n",
            "(3,)\n"
          ]
        }
      ]
    },
    {
      "cell_type": "code",
      "source": [
        "print(a1.dtype)"
      ],
      "metadata": {
        "colab": {
          "base_uri": "https://localhost:8080/"
        },
        "id": "3QrDxdSH_HVK",
        "outputId": "bfe66085-dfbc-40bb-b1e9-4d9b63010b35"
      },
      "execution_count": null,
      "outputs": [
        {
          "output_type": "stream",
          "name": "stdout",
          "text": [
            "int64\n"
          ]
        }
      ]
    },
    {
      "cell_type": "code",
      "source": [
        "print(a2.sum(axis=0))\n",
        "print(a2.sum(axis=1))"
      ],
      "metadata": {
        "colab": {
          "base_uri": "https://localhost:8080/"
        },
        "id": "H4IVB84Y_Mb4",
        "outputId": "92c1a9ae-dedf-49eb-dc4b-a1d31907986f"
      },
      "execution_count": null,
      "outputs": [
        {
          "output_type": "stream",
          "name": "stdout",
          "text": [
            "[30 90 90]\n",
            "[ 90 120]\n"
          ]
        }
      ]
    },
    {
      "cell_type": "code",
      "source": [
        "print(a2.dtype)"
      ],
      "metadata": {
        "colab": {
          "base_uri": "https://localhost:8080/"
        },
        "id": "UR4AiLkE_Nsl",
        "outputId": "d1cebcf2-f941-4a1c-e496-0e9fb8253ddd"
      },
      "execution_count": null,
      "outputs": [
        {
          "output_type": "stream",
          "name": "stdout",
          "text": [
            "int64\n"
          ]
        }
      ]
    },
    {
      "cell_type": "code",
      "source": [
        "print(a1.ndim)\n",
        "print(a2.ndim)\n",
        "print(a3.ndim)"
      ],
      "metadata": {
        "colab": {
          "base_uri": "https://localhost:8080/"
        },
        "id": "RewdkgwV_Pog",
        "outputId": "d2e4a963-a4ae-48e4-9720-a470602ca0d1"
      },
      "execution_count": null,
      "outputs": [
        {
          "output_type": "stream",
          "name": "stdout",
          "text": [
            "1\n",
            "2\n",
            "1\n"
          ]
        }
      ]
    },
    {
      "cell_type": "code",
      "source": [
        "print(a1.max())\n",
        "print(a2.max())\n",
        "print(a3.max())"
      ],
      "metadata": {
        "colab": {
          "base_uri": "https://localhost:8080/"
        },
        "id": "0VWUd4xd_dXl",
        "outputId": "cdb05cc4-cd43-43e4-b6e0-e7e71962daaa"
      },
      "execution_count": null,
      "outputs": [
        {
          "output_type": "stream",
          "name": "stdout",
          "text": [
            "8\n",
            "60\n",
            "84\n"
          ]
        }
      ]
    },
    {
      "cell_type": "code",
      "source": [
        "print(a1.min())\n",
        "print(a2.min())\n",
        "print(a3.min())"
      ],
      "metadata": {
        "colab": {
          "base_uri": "https://localhost:8080/"
        },
        "id": "wfXwMJzQ_lef",
        "outputId": "9b1abfd0-0377-4b48-b206-8a25092fc11d"
      },
      "execution_count": null,
      "outputs": [
        {
          "output_type": "stream",
          "name": "stdout",
          "text": [
            "5\n",
            "10\n",
            "23\n"
          ]
        }
      ]
    },
    {
      "cell_type": "code",
      "source": [
        "a4=np.array([15,55,34,45,90]) #1d data\n",
        "print(a4)"
      ],
      "metadata": {
        "colab": {
          "base_uri": "https://localhost:8080/"
        },
        "id": "27srzgBs_rYX",
        "outputId": "b11ee565-2609-429d-92ac-b201d0d88e89"
      },
      "execution_count": null,
      "outputs": [
        {
          "output_type": "stream",
          "name": "stdout",
          "text": [
            "[15 55 34 45 90]\n"
          ]
        }
      ]
    },
    {
      "cell_type": "code",
      "source": [
        "a4=np.array([15,55,34,45,90],ndmin=2) #1d data to 2d data\n",
        "print(a4)"
      ],
      "metadata": {
        "colab": {
          "base_uri": "https://localhost:8080/"
        },
        "id": "ElYc_9hL_zWE",
        "outputId": "ba59b08f-d942-497b-9141-52d48547445f"
      },
      "execution_count": null,
      "outputs": [
        {
          "output_type": "stream",
          "name": "stdout",
          "text": [
            "[[15 55 34 45 90]]\n"
          ]
        }
      ]
    },
    {
      "cell_type": "code",
      "source": [
        "print(a4.size)\n",
        "print(a4.shape)"
      ],
      "metadata": {
        "colab": {
          "base_uri": "https://localhost:8080/"
        },
        "id": "qweSxRTv_0uu",
        "outputId": "5d636ebf-cdf4-4f20-dbe3-26fe9a1e19a9"
      },
      "execution_count": null,
      "outputs": [
        {
          "output_type": "stream",
          "name": "stdout",
          "text": [
            "5\n",
            "(1, 5)\n"
          ]
        }
      ]
    },
    {
      "cell_type": "code",
      "source": [
        "a5=np.array([25,32,87],dtype=complex) #array using d type parameter which implies the creation of an array with the desired data type.\n",
        "print(a5)"
      ],
      "metadata": {
        "colab": {
          "base_uri": "https://localhost:8080/"
        },
        "id": "I1k5unwY_6KU",
        "outputId": "1d23d101-02f0-41e6-cf1e-5f336afd2ac2"
      },
      "execution_count": null,
      "outputs": [
        {
          "output_type": "stream",
          "name": "stdout",
          "text": [
            "[25.+0.j 32.+0.j 87.+0.j]\n"
          ]
        }
      ]
    },
    {
      "cell_type": "code",
      "source": [
        "print(a5.shape)\n",
        "print(a5.size)"
      ],
      "metadata": {
        "colab": {
          "base_uri": "https://localhost:8080/"
        },
        "id": "eyfbe6GV_9FS",
        "outputId": "e3c6f130-141e-4493-a22c-cd0ba18d6709"
      },
      "execution_count": null,
      "outputs": [
        {
          "output_type": "stream",
          "name": "stdout",
          "text": [
            "(3,)\n",
            "3\n"
          ]
        }
      ]
    },
    {
      "cell_type": "code",
      "source": [
        "a5=np.array([25,32,87],dtype=float) #converted to float data\n",
        "print(a5)"
      ],
      "metadata": {
        "colab": {
          "base_uri": "https://localhost:8080/"
        },
        "id": "c1qwbZQyAEvq",
        "outputId": "79c5da93-cec1-4542-9a53-3951508487fa"
      },
      "execution_count": null,
      "outputs": [
        {
          "output_type": "stream",
          "name": "stdout",
          "text": [
            "[25. 32. 87.]\n"
          ]
        }
      ]
    },
    {
      "cell_type": "code",
      "source": [
        "a2=np.array([[10,50,30],[20,40,60]],dtype=\"int32\")  #2d data 2rows 3 columns\n",
        "print(a2)\n",
        "print(a2.shape)"
      ],
      "metadata": {
        "colab": {
          "base_uri": "https://localhost:8080/"
        },
        "id": "s7T7X6hYAMgn",
        "outputId": "9729f3dd-8522-495e-89dd-3b3026ce2368"
      },
      "execution_count": null,
      "outputs": [
        {
          "output_type": "stream",
          "name": "stdout",
          "text": [
            "[[10 50 30]\n",
            " [20 40 60]]\n",
            "(2, 3)\n"
          ]
        }
      ]
    },
    {
      "cell_type": "code",
      "source": [
        "a2.shape=(3,2) #converting 2rows 3 colums to 3 rows to 2 columns\n",
        "print(a2)"
      ],
      "metadata": {
        "colab": {
          "base_uri": "https://localhost:8080/"
        },
        "id": "gmlOiQwYAT6I",
        "outputId": "9af0c769-4e81-4dfc-cc36-62d543c7c3d7"
      },
      "execution_count": null,
      "outputs": [
        {
          "output_type": "stream",
          "name": "stdout",
          "text": [
            "[[10 50]\n",
            " [30 20]\n",
            " [40 60]]\n"
          ]
        }
      ]
    },
    {
      "cell_type": "code",
      "source": [
        "print(a2.shape)"
      ],
      "metadata": {
        "colab": {
          "base_uri": "https://localhost:8080/"
        },
        "id": "jO59zbHHAXPG",
        "outputId": "d76abe47-e057-4a10-f7d9-4c3d56383b86"
      },
      "execution_count": null,
      "outputs": [
        {
          "output_type": "stream",
          "name": "stdout",
          "text": [
            "(3, 2)\n"
          ]
        }
      ]
    },
    {
      "cell_type": "code",
      "source": [
        "a2.shape=(6,1)\n",
        "print(a2)"
      ],
      "metadata": {
        "colab": {
          "base_uri": "https://localhost:8080/"
        },
        "id": "I4Zdsg6tAbi6",
        "outputId": "ea44f981-cc53-4dc2-e8c3-de1f14324c1f"
      },
      "execution_count": null,
      "outputs": [
        {
          "output_type": "stream",
          "name": "stdout",
          "text": [
            "[[10]\n",
            " [50]\n",
            " [30]\n",
            " [20]\n",
            " [40]\n",
            " [60]]\n"
          ]
        }
      ]
    },
    {
      "cell_type": "code",
      "source": [
        "#identity Matrix Diagnol elements are same\n",
        "a5=np.ones(10)\n",
        "print(a5)\n",
        "\n",
        "print()\n",
        "\n",
        "a5=np.zeros(10)\n",
        "print(a5)"
      ],
      "metadata": {
        "colab": {
          "base_uri": "https://localhost:8080/"
        },
        "id": "Id7_IQwKAemZ",
        "outputId": "9fbc4bdf-8ec1-4bdc-9334-48453c097673"
      },
      "execution_count": null,
      "outputs": [
        {
          "output_type": "stream",
          "name": "stdout",
          "text": [
            "[1. 1. 1. 1. 1. 1. 1. 1. 1. 1.]\n",
            "\n",
            "[0. 0. 0. 0. 0. 0. 0. 0. 0. 0.]\n"
          ]
        }
      ]
    },
    {
      "cell_type": "code",
      "source": [
        "a2=np.array([[10,50,30],[20,40,60]]) #2d list with list\n",
        "print(a2)\n",
        "print(type(a2))"
      ],
      "metadata": {
        "colab": {
          "base_uri": "https://localhost:8080/"
        },
        "id": "CndWOexGApMX",
        "outputId": "c5fa5ad4-b356-4eb8-a434-28de18c1228f"
      },
      "execution_count": null,
      "outputs": [
        {
          "output_type": "stream",
          "name": "stdout",
          "text": [
            "[[10 50 30]\n",
            " [20 40 60]]\n",
            "<class 'numpy.ndarray'>\n"
          ]
        }
      ]
    },
    {
      "cell_type": "code",
      "source": [
        "print(a2.shape)\n",
        "print(a2.ndim)\n",
        "print(a2.size)"
      ],
      "metadata": {
        "colab": {
          "base_uri": "https://localhost:8080/"
        },
        "id": "-eQXkB3iAxD8",
        "outputId": "726df19f-71ae-493d-f51a-0f532ff1f9d8"
      },
      "execution_count": null,
      "outputs": [
        {
          "output_type": "stream",
          "name": "stdout",
          "text": [
            "(2, 3)\n",
            "2\n",
            "6\n"
          ]
        }
      ]
    },
    {
      "cell_type": "code",
      "source": [
        "a6=np.array([1.1,3.2,4.5])\n",
        "print(a6)"
      ],
      "metadata": {
        "colab": {
          "base_uri": "https://localhost:8080/"
        },
        "id": "RK-CQPfjA6fY",
        "outputId": "cff4f544-400d-4df4-9ac0-5928251aadf3"
      },
      "execution_count": null,
      "outputs": [
        {
          "output_type": "stream",
          "name": "stdout",
          "text": [
            "[1.1 3.2 4.5]\n"
          ]
        }
      ]
    },
    {
      "cell_type": "code",
      "source": [
        "print(type(a6))\n",
        "print(a6.ndim)\n",
        "print(a6.shape)\n",
        "print(a6.size)\n",
        "print(a6.dtype)"
      ],
      "metadata": {
        "colab": {
          "base_uri": "https://localhost:8080/"
        },
        "id": "QPYA34lGA-Ai",
        "outputId": "1a529dfc-a8b7-4e86-e88a-87a5ceac73c5"
      },
      "execution_count": null,
      "outputs": [
        {
          "output_type": "stream",
          "name": "stdout",
          "text": [
            "<class 'numpy.ndarray'>\n",
            "1\n",
            "(3,)\n",
            "3\n",
            "float64\n"
          ]
        }
      ]
    },
    {
      "cell_type": "code",
      "source": [
        "a7=np.array([1,1.6,\"sanad\"])\n",
        "print(a7)\n",
        "print(type(a7))\n",
        "print(a7.ndim)\n",
        "print(a7.shape)\n",
        "print(a7.size)\n",
        "print(a7.dtype)"
      ],
      "metadata": {
        "colab": {
          "base_uri": "https://localhost:8080/"
        },
        "id": "ukSgjrHbA_4u",
        "outputId": "a6e3b0f0-fdba-46e1-cef3-2a6e61dbad80"
      },
      "execution_count": null,
      "outputs": [
        {
          "output_type": "stream",
          "name": "stdout",
          "text": [
            "['1' '1.6' 'sanad']\n",
            "<class 'numpy.ndarray'>\n",
            "1\n",
            "(3,)\n",
            "3\n",
            "<U32\n"
          ]
        }
      ]
    },
    {
      "cell_type": "code",
      "source": [
        "a8=np.array([5,6.9,9.8],dtype=\"int64\")\n",
        "print(a8)"
      ],
      "metadata": {
        "colab": {
          "base_uri": "https://localhost:8080/"
        },
        "id": "tXkg37qhBFTk",
        "outputId": "4d9137af-8a25-46a6-ed93-fdd49773fb45"
      },
      "execution_count": null,
      "outputs": [
        {
          "output_type": "stream",
          "name": "stdout",
          "text": [
            "[5 6 9]\n"
          ]
        }
      ]
    },
    {
      "cell_type": "code",
      "source": [
        "import numpy as np\n",
        "b1=np.array([5.5,7.8,8.9])\n",
        "print(b1)\n",
        "b1[0]"
      ],
      "metadata": {
        "colab": {
          "base_uri": "https://localhost:8080/"
        },
        "id": "bX20K84WBNUG",
        "outputId": "112a0dce-bd30-4b64-b76e-290ed37b3ed4"
      },
      "execution_count": null,
      "outputs": [
        {
          "output_type": "stream",
          "name": "stdout",
          "text": [
            "[5.5 7.8 8.9]\n"
          ]
        },
        {
          "output_type": "execute_result",
          "data": {
            "text/plain": [
              "5.5"
            ]
          },
          "metadata": {},
          "execution_count": 43
        }
      ]
    },
    {
      "cell_type": "code",
      "source": [
        "b1=np.array([[5.5,7.8],[9.9,5.6]])\n",
        "print(b1)\n",
        "b1=np.zeros((2,2))\n",
        "print(b1)"
      ],
      "metadata": {
        "colab": {
          "base_uri": "https://localhost:8080/"
        },
        "id": "rQWlT3tdBO7N",
        "outputId": "f7f638eb-9fb1-4bc3-814f-7eebea840fdc"
      },
      "execution_count": null,
      "outputs": [
        {
          "output_type": "stream",
          "name": "stdout",
          "text": [
            "[[5.5 7.8]\n",
            " [9.9 5.6]]\n",
            "[[0. 0.]\n",
            " [0. 0.]]\n"
          ]
        }
      ]
    },
    {
      "cell_type": "code",
      "source": [
        "b1=np.ones((1,2))\n",
        "print(b1)"
      ],
      "metadata": {
        "colab": {
          "base_uri": "https://localhost:8080/"
        },
        "id": "iSuYQmS4BQsC",
        "outputId": "62153280-c4b5-458d-907c-d9ede39f3e46"
      },
      "execution_count": null,
      "outputs": [
        {
          "output_type": "stream",
          "name": "stdout",
          "text": [
            "[[1. 1.]]\n"
          ]
        }
      ]
    },
    {
      "cell_type": "code",
      "source": [
        "b2=np.array([1.1,2.4,3.6,])\n",
        "for item in range(0,3):\n",
        "  print(b2[item])"
      ],
      "metadata": {
        "colab": {
          "base_uri": "https://localhost:8080/"
        },
        "id": "5zXxz7dHBSMC",
        "outputId": "f62c1078-742c-4240-c4e2-77032ebf5363"
      },
      "execution_count": null,
      "outputs": [
        {
          "output_type": "stream",
          "name": "stdout",
          "text": [
            "1.1\n",
            "2.4\n",
            "3.6\n"
          ]
        }
      ]
    },
    {
      "cell_type": "code",
      "source": [
        "k=np.full((2,2),15) #if we need to add particular data in a matrix predifine matrix.\n",
        "print(k)"
      ],
      "metadata": {
        "colab": {
          "base_uri": "https://localhost:8080/"
        },
        "id": "ZMPNBlatBXSB",
        "outputId": "a2087a64-a5e8-4920-d7a0-86460b108fc9"
      },
      "execution_count": null,
      "outputs": [
        {
          "output_type": "stream",
          "name": "stdout",
          "text": [
            "[[15 15]\n",
            " [15 15]]\n"
          ]
        }
      ]
    },
    {
      "cell_type": "code",
      "source": [
        "k2=np.eye(3) #predefine function in numpy #identity matrix\n",
        "print(k2)"
      ],
      "metadata": {
        "colab": {
          "base_uri": "https://localhost:8080/"
        },
        "id": "t0JPqEWbBZcG",
        "outputId": "0acb4ec3-e7a4-41c4-d91a-df2df699f196"
      },
      "execution_count": null,
      "outputs": [
        {
          "output_type": "stream",
          "name": "stdout",
          "text": [
            "[[1. 0. 0.]\n",
            " [0. 1. 0.]\n",
            " [0. 0. 1.]]\n"
          ]
        }
      ]
    },
    {
      "cell_type": "code",
      "source": [
        "k2=np.random.random((3,3)) #use of random.random function\n",
        "print(k2)"
      ],
      "metadata": {
        "colab": {
          "base_uri": "https://localhost:8080/"
        },
        "id": "t4FfmFoFBc4M",
        "outputId": "beb15c0d-9bce-42c1-89df-59bf0cf73972"
      },
      "execution_count": null,
      "outputs": [
        {
          "output_type": "stream",
          "name": "stdout",
          "text": [
            "[[0.103995   0.31890759 0.93330469]\n",
            " [0.1769829  0.15323412 0.5341108 ]\n",
            " [0.60821462 0.60158107 0.50489695]]\n"
          ]
        }
      ]
    },
    {
      "cell_type": "code",
      "source": [
        "k3=np.array([1.1,2.2,3.3]) #replacing the data or updating the data with correspond to index\n",
        "k3[0]=7.5\n",
        "print(k3)"
      ],
      "metadata": {
        "colab": {
          "base_uri": "https://localhost:8080/"
        },
        "id": "IUKX-PepBizI",
        "outputId": "27cdf76c-725c-4075-ddce-927ecc6d7b04"
      },
      "execution_count": null,
      "outputs": [
        {
          "output_type": "stream",
          "name": "stdout",
          "text": [
            "[7.5 2.2 3.3]\n"
          ]
        }
      ]
    },
    {
      "cell_type": "code",
      "source": [
        "np.insert(k3,2,1.1)\n",
        "print(k3)"
      ],
      "metadata": {
        "colab": {
          "base_uri": "https://localhost:8080/"
        },
        "id": "aVDfrN-OBnmU",
        "outputId": "3fb3b1de-27f3-48ee-92e5-90774685d372"
      },
      "execution_count": null,
      "outputs": [
        {
          "output_type": "stream",
          "name": "stdout",
          "text": [
            "[7.5 2.2 3.3]\n"
          ]
        }
      ]
    },
    {
      "cell_type": "code",
      "source": [
        "import array as arr #library of python."
      ],
      "metadata": {
        "id": "Rxb24wwaBpiE"
      },
      "execution_count": null,
      "outputs": []
    },
    {
      "cell_type": "code",
      "source": [
        "k4=arr.array(\"d\",[1.1,2.3,5.6]) #adding more data in list using array library\n",
        "k4.insert(1,7.7)\n",
        "print(k4)"
      ],
      "metadata": {
        "colab": {
          "base_uri": "https://localhost:8080/"
        },
        "id": "yz0wzAXLB3hj",
        "outputId": "7cdbb801-d76b-490f-9900-8fda6ca8254f"
      },
      "execution_count": null,
      "outputs": [
        {
          "output_type": "stream",
          "name": "stdout",
          "text": [
            "array('d', [1.1, 7.7, 2.3, 5.6])\n"
          ]
        }
      ]
    },
    {
      "cell_type": "code",
      "source": [
        "k4.pop(2)\n",
        "print(k4)"
      ],
      "metadata": {
        "colab": {
          "base_uri": "https://localhost:8080/"
        },
        "id": "96_INA0TB6BZ",
        "outputId": "396e4a46-9c99-4f80-9bba-68cd29d2d716"
      },
      "execution_count": null,
      "outputs": [
        {
          "output_type": "stream",
          "name": "stdout",
          "text": [
            "array('d', [1.1, 7.7, 5.6])\n"
          ]
        }
      ]
    },
    {
      "cell_type": "code",
      "source": [
        "k4.remove(7.7) #remove\n",
        "print(k4)"
      ],
      "metadata": {
        "colab": {
          "base_uri": "https://localhost:8080/"
        },
        "id": "k6MgAV0rB-VH",
        "outputId": "4bd73323-700b-48c6-fbeb-e0037b9cc4ff"
      },
      "execution_count": null,
      "outputs": [
        {
          "output_type": "stream",
          "name": "stdout",
          "text": [
            "array('d', [1.1, 5.6])\n"
          ]
        }
      ]
    },
    {
      "cell_type": "code",
      "source": [
        "k4.append(9.8) #append work in array but not in numpy\n",
        "k4"
      ],
      "metadata": {
        "colab": {
          "base_uri": "https://localhost:8080/"
        },
        "id": "5jMnCj9zCA58",
        "outputId": "87f2fdc9-6e98-4562-964a-16d61ed46aca"
      },
      "execution_count": null,
      "outputs": [
        {
          "output_type": "execute_result",
          "data": {
            "text/plain": [
              "array('d', [1.1, 5.6, 9.8])"
            ]
          },
          "metadata": {},
          "execution_count": 56
        }
      ]
    },
    {
      "cell_type": "code",
      "source": [
        "k4[2]=10.5 #updating the list\n",
        "print(k4)"
      ],
      "metadata": {
        "colab": {
          "base_uri": "https://localhost:8080/"
        },
        "id": "6ubeGPg1CENW",
        "outputId": "62170193-1a1c-4d44-b127-4e4b151bd64c"
      },
      "execution_count": null,
      "outputs": [
        {
          "output_type": "stream",
          "name": "stdout",
          "text": [
            "array('d', [1.1, 5.6, 10.5])\n"
          ]
        }
      ]
    },
    {
      "cell_type": "code",
      "source": [
        "k4.index(1.1) #searching the data from list"
      ],
      "metadata": {
        "colab": {
          "base_uri": "https://localhost:8080/"
        },
        "id": "6CcpINT0CHg_",
        "outputId": "39ad7baf-981b-4e0c-f918-e160c83bf6d6"
      },
      "execution_count": null,
      "outputs": [
        {
          "output_type": "execute_result",
          "data": {
            "text/plain": [
              "0"
            ]
          },
          "metadata": {},
          "execution_count": 58
        }
      ]
    },
    {
      "cell_type": "code",
      "source": [
        "from matplotlib import pyplot as plt\n",
        "x=[5,2,9,4,7]\n",
        "y=[10,5,8,4,2]\n",
        "plt.bar(x,y)\n",
        "plt.show()"
      ],
      "metadata": {
        "colab": {
          "base_uri": "https://localhost:8080/",
          "height": 430
        },
        "id": "8EtgDArqCIy9",
        "outputId": "7e859edb-9d65-4974-a42d-d3d99920e49b"
      },
      "execution_count": null,
      "outputs": [
        {
          "output_type": "display_data",
          "data": {
            "text/plain": [
              "<Figure size 640x480 with 1 Axes>"
            ],
            "image/png": "[encoded data removed]"
          },
          "metadata": {}
        }
      ]
    },
    {
      "cell_type": "code",
      "source": [
        "import numpy as np\n",
        "np.__version__"
      ],
      "metadata": {
        "colab": {
          "base_uri": "https://localhost:8080/",
          "height": 35
        },
        "id": "rJrzAtlkCOUt",
        "outputId": "8ae61cb9-63f7-4acb-f0b3-f887f6aec914"
      },
      "execution_count": null,
      "outputs": [
        {
          "output_type": "execute_result",
          "data": {
            "text/plain": [
              "'1.23.5'"
            ],
            "application/vnd.google.colaboratory.intrinsic+json": {
              "type": "string"
            }
          },
          "metadata": {},
          "execution_count": 60
        }
      ]
    },
    {
      "cell_type": "code",
      "source": [
        "l=list(range(10))\n",
        "print(l)\n",
        "type(l[0]) #type of index value"
      ],
      "metadata": {
        "colab": {
          "base_uri": "https://localhost:8080/"
        },
        "id": "tf_Sm7IPCQ-A",
        "outputId": "32911d77-04e0-40e4-c616-ec74487b224c"
      },
      "execution_count": null,
      "outputs": [
        {
          "output_type": "stream",
          "name": "stdout",
          "text": [
            "[0, 1, 2, 3, 4, 5, 6, 7, 8, 9]\n"
          ]
        },
        {
          "output_type": "execute_result",
          "data": {
            "text/plain": [
              "int"
            ]
          },
          "metadata": {},
          "execution_count": 61
        }
      ]
    },
    {
      "cell_type": "code",
      "source": [
        "string=([str(item) for item in l]) #converting list to str using concatination\n",
        "print(string)"
      ],
      "metadata": {
        "colab": {
          "base_uri": "https://localhost:8080/"
        },
        "id": "XPjVjFbhCUGG",
        "outputId": "e7d5ccb6-16d4-4002-96b0-02c2fbe4896b"
      },
      "execution_count": null,
      "outputs": [
        {
          "output_type": "stream",
          "name": "stdout",
          "text": [
            "['0', '1', '2', '3', '4', '5', '6', '7', '8', '9']\n"
          ]
        }
      ]
    },
    {
      "cell_type": "code",
      "source": [
        "type(string[0])"
      ],
      "metadata": {
        "colab": {
          "base_uri": "https://localhost:8080/"
        },
        "id": "1ae1lQCZCZMr",
        "outputId": "e7d5a878-0ecb-4a17-c909-39ff18e1671e"
      },
      "execution_count": null,
      "outputs": [
        {
          "output_type": "execute_result",
          "data": {
            "text/plain": [
              "str"
            ]
          },
          "metadata": {},
          "execution_count": 63
        }
      ]
    },
    {
      "cell_type": "code",
      "source": [
        "l2=[False,100,57.5,5+4j,\"dataloves\"]\n",
        "datatype=([type(item) for item in l2])\n",
        "print((datatype))"
      ],
      "metadata": {
        "colab": {
          "base_uri": "https://localhost:8080/"
        },
        "id": "btq0YdUTCeGZ",
        "outputId": "e9527a99-1d1b-49af-85b1-89282ae59333"
      },
      "execution_count": null,
      "outputs": [
        {
          "output_type": "stream",
          "name": "stdout",
          "text": [
            "[<class 'bool'>, <class 'int'>, <class 'float'>, <class 'complex'>, <class 'str'>]\n"
          ]
        }
      ]
    },
    {
      "cell_type": "code",
      "source": [
        "a0=np.zeros(10)\n",
        "np.dtype=int\n",
        "print(a0)"
      ],
      "metadata": {
        "colab": {
          "base_uri": "https://localhost:8080/"
        },
        "id": "Qegmbv21Cf1i",
        "outputId": "d5937cd8-030a-428d-902b-e204a5242edf"
      },
      "execution_count": null,
      "outputs": [
        {
          "output_type": "stream",
          "name": "stdout",
          "text": [
            "[0. 0. 0. 0. 0. 0. 0. 0. 0. 0.]\n"
          ]
        }
      ]
    },
    {
      "cell_type": "code",
      "source": [
        "a0=np.zeros(10,dtype=int)\n",
        "print(a0)"
      ],
      "metadata": {
        "colab": {
          "base_uri": "https://localhost:8080/"
        },
        "id": "tJ9kz8RMCh8S",
        "outputId": "f6730100-97fa-422b-c8b8-078bf37ad468"
      },
      "execution_count": null,
      "outputs": [
        {
          "output_type": "stream",
          "name": "stdout",
          "text": [
            "[0 0 0 0 0 0 0 0 0 0]\n"
          ]
        }
      ]
    },
    {
      "cell_type": "code",
      "source": [
        "a0=int(np.zeros(10)) #not able to do the type casting in numpy array list can perform.\n",
        "print(a0)"
      ],
      "metadata": {
        "colab": {
          "base_uri": "https://localhost:8080/",
          "height": 210
        },
        "id": "CpzRPOP5Cis6",
        "outputId": "6160ed1b-9fcc-4948-c264-14ba73093d68"
      },
      "execution_count": null,
      "outputs": [
        {
          "output_type": "error",
          "ename": "TypeError",
          "evalue": "ignored",
          "traceback": [
            "\u001b[0;31m---------------------------------------------------------------------------\u001b[0m",
            "\u001b[0;31mTypeError\u001b[0m                                 Traceback (most recent call last)",
            "\u001b[0;32m<ipython-input-67-0348fe3cf087>\u001b[0m in \u001b[0;36m<cell line: 1>\u001b[0;34m()\u001b[0m\n\u001b[0;32m----> 1\u001b[0;31m \u001b[0ma0\u001b[0m\u001b[0;34m=\u001b[0m\u001b[0mint\u001b[0m\u001b[0;34m(\u001b[0m\u001b[0mnp\u001b[0m\u001b[0;34m.\u001b[0m\u001b[0mzeros\u001b[0m\u001b[0;34m(\u001b[0m\u001b[0;36m10\u001b[0m\u001b[0;34m)\u001b[0m\u001b[0;34m)\u001b[0m \u001b[0;31m#not able to do the type cating in numpy array list can perform.\u001b[0m\u001b[0;34m\u001b[0m\u001b[0;34m\u001b[0m\u001b[0m\n\u001b[0m\u001b[1;32m      2\u001b[0m \u001b[0mprint\u001b[0m\u001b[0;34m(\u001b[0m\u001b[0ma0\u001b[0m\u001b[0;34m)\u001b[0m\u001b[0;34m\u001b[0m\u001b[0;34m\u001b[0m\u001b[0m\n",
            "\u001b[0;31mTypeError\u001b[0m: only size-1 arrays can be converted to Python scalars"
          ]
        }
      ]
    },
    {
      "cell_type": "code",
      "source": [
        "s=np.random.random(10)\n",
        "print(s)"
      ],
      "metadata": {
        "colab": {
          "base_uri": "https://localhost:8080/"
        },
        "id": "aVKRspCqCj-F",
        "outputId": "03102efd-3116-4003-e86e-b19d8a4ca52b"
      },
      "execution_count": null,
      "outputs": [
        {
          "output_type": "stream",
          "name": "stdout",
          "text": [
            "[0.35328803 0.41221383 0.89747669 0.07754722 0.38801081 0.45573541\n",
            " 0.46440434 0.55956908 0.38923018 0.51990956]\n"
          ]
        }
      ]
    },
    {
      "cell_type": "code",
      "source": [
        "import numpy as np\n",
        "#how numpy is faster then list?"
      ],
      "metadata": {
        "id": "eB8w-_1jCpj5"
      },
      "execution_count": null,
      "outputs": []
    },
    {
      "cell_type": "code",
      "source": [
        "a=np.arange(1000000)\n",
        "l=list(range(1000000))"
      ],
      "metadata": {
        "id": "mrekxgaCCwDH"
      },
      "execution_count": null,
      "outputs": []
    },
    {
      "cell_type": "code",
      "source": [
        "%timeit for _ in range(200):a2=a*2"
      ],
      "metadata": {
        "colab": {
          "base_uri": "https://localhost:8080/"
        },
        "id": "gY3bSSoYCxqf",
        "outputId": "a17bd761-aecb-4b3a-c66e-ef3ef62b20bf"
      },
      "execution_count": null,
      "outputs": [
        {
          "output_type": "stream",
          "name": "stdout",
          "text": [
            "307 ms ± 41.8 ms per loop (mean ± std. dev. of 7 runs, 1 loop each)\n"
          ]
        }
      ]
    },
    {
      "cell_type": "code",
      "source": [
        "%timeit for _ in range(200):a2=a*2 #numpy array time check  #not to show on likedin"
      ],
      "metadata": {
        "colab": {
          "base_uri": "https://localhost:8080/"
        },
        "id": "GaJ8EujfCy5B",
        "outputId": "6b5902a8-627b-46cc-c800-b1469dfdc3af"
      },
      "execution_count": null,
      "outputs": [
        {
          "output_type": "stream",
          "name": "stdout",
          "text": [
            "249 ms ± 40.7 ms per loop (mean ± std. dev. of 7 runs, 1 loop each)\n"
          ]
        }
      ]
    },
    {
      "cell_type": "code",
      "source": [
        "%timeit for _ in range(200): l2=l*2 #list time check"
      ],
      "metadata": {
        "colab": {
          "base_uri": "https://localhost:8080/"
        },
        "id": "ileJIlStC0Vl",
        "outputId": "ccb25e2b-352a-4e63-9622-aa56975e7a6b"
      },
      "execution_count": null,
      "outputs": [
        {
          "output_type": "stream",
          "name": "stdout",
          "text": [
            "5.06 s ± 499 ms per loop (mean ± std. dev. of 7 runs, 1 loop each)\n"
          ]
        }
      ]
    },
    {
      "cell_type": "code",
      "source": [
        "#creating n-d arrays\n",
        "d=[1,2,3,4,5]\n",
        "a1=np.array(d)\n",
        "print(a1)\n",
        "\n",
        "print()\n",
        "print()\n",
        "\n",
        "d2=[[1,2,3],[4,5,6]]\n",
        "a2=np.array(d2)\n",
        "print(d2)"
      ],
      "metadata": {
        "colab": {
          "base_uri": "https://localhost:8080/"
        },
        "id": "4Y5G7ktoC4Rd",
        "outputId": "35f9213f-20b8-40a2-f513-36c934c81c25"
      },
      "execution_count": null,
      "outputs": [
        {
          "output_type": "stream",
          "name": "stdout",
          "text": [
            "[1 2 3 4 5]\n",
            "\n",
            "\n",
            "[[1, 2, 3], [4, 5, 6]]\n"
          ]
        }
      ]
    },
    {
      "cell_type": "code",
      "source": [
        "d3=np.array(d,dtype=np.float64)\n",
        "print(d3)"
      ],
      "metadata": {
        "colab": {
          "base_uri": "https://localhost:8080/"
        },
        "id": "4mOkupRQDEbA",
        "outputId": "8980a93c-b045-4503-c21e-0f75a4d4eba0"
      },
      "execution_count": null,
      "outputs": [
        {
          "output_type": "stream",
          "name": "stdout",
          "text": [
            "[1. 2. 3. 4. 5.]\n"
          ]
        }
      ]
    },
    {
      "cell_type": "code",
      "source": [
        "print(a1.dtype,a1.shape,a1.ndim)"
      ],
      "metadata": {
        "colab": {
          "base_uri": "https://localhost:8080/"
        },
        "id": "S6BnqdndDKUW",
        "outputId": "6fccd35d-6b76-48c4-ec51-8ed32a51c76e"
      },
      "execution_count": null,
      "outputs": [
        {
          "output_type": "stream",
          "name": "stdout",
          "text": [
            "int64 (5,) 1\n"
          ]
        }
      ]
    },
    {
      "cell_type": "code",
      "source": [
        "print(a2.dtype,a2.shape,a2.ndim)"
      ],
      "metadata": {
        "colab": {
          "base_uri": "https://localhost:8080/"
        },
        "id": "Dsj9RebSDLsC",
        "outputId": "5d6305b1-0c94-4ceb-b7dd-bd60a154e5ba"
      },
      "execution_count": null,
      "outputs": [
        {
          "output_type": "stream",
          "name": "stdout",
          "text": [
            "int64 (2, 3) 2\n"
          ]
        }
      ]
    },
    {
      "cell_type": "code",
      "source": [
        "print(np.arange(10))"
      ],
      "metadata": {
        "colab": {
          "base_uri": "https://localhost:8080/"
        },
        "id": "vG_KsPhZDN9F",
        "outputId": "dd18c8af-8d10-4c3e-e945-333f1dacd29e"
      },
      "execution_count": null,
      "outputs": [
        {
          "output_type": "stream",
          "name": "stdout",
          "text": [
            "[0 1 2 3 4 5 6 7 8 9]\n"
          ]
        }
      ]
    },
    {
      "cell_type": "code",
      "source": [
        "print(np.ones((2,3)))"
      ],
      "metadata": {
        "colab": {
          "base_uri": "https://localhost:8080/"
        },
        "id": "3FB6pe8vDSlJ",
        "outputId": "7db88815-f618-4c0e-8bc3-80e5adbf7733"
      },
      "execution_count": null,
      "outputs": [
        {
          "output_type": "stream",
          "name": "stdout",
          "text": [
            "[[1. 1. 1.]\n",
            " [1. 1. 1.]]\n"
          ]
        }
      ]
    },
    {
      "cell_type": "code",
      "source": [
        "print(np.full((2,3),fill_value=5))"
      ],
      "metadata": {
        "colab": {
          "base_uri": "https://localhost:8080/"
        },
        "id": "1Y2meCOIDgjR",
        "outputId": "b13b9ee9-52f6-4b27-8d3e-5a493d33922e"
      },
      "execution_count": null,
      "outputs": [
        {
          "output_type": "stream",
          "name": "stdout",
          "text": [
            "[[5 5 5]\n",
            " [5 5 5]]\n"
          ]
        }
      ]
    },
    {
      "cell_type": "code",
      "source": [
        "print(np.empty(5))"
      ],
      "metadata": {
        "colab": {
          "base_uri": "https://localhost:8080/"
        },
        "id": "bOTy68vXDiUC",
        "outputId": "6bd13da2-a2e2-4389-e1ff-057bbeb899fb"
      },
      "execution_count": null,
      "outputs": [
        {
          "output_type": "stream",
          "name": "stdout",
          "text": [
            "[1. 2. 3. 4. 5.]\n"
          ]
        }
      ]
    },
    {
      "cell_type": "code",
      "source": [
        "print(np.zeros((3,3)))"
      ],
      "metadata": {
        "colab": {
          "base_uri": "https://localhost:8080/"
        },
        "id": "nLn3OTO6Dn_-",
        "outputId": "49fe6b65-dabf-4563-c719-742a90ebf41f"
      },
      "execution_count": null,
      "outputs": [
        {
          "output_type": "stream",
          "name": "stdout",
          "text": [
            "[[0. 0. 0.]\n",
            " [0. 0. 0.]\n",
            " [0. 0. 0.]]\n"
          ]
        }
      ]
    },
    {
      "cell_type": "code",
      "source": [
        "print(np.eye(4)) #identity matrix"
      ],
      "metadata": {
        "colab": {
          "base_uri": "https://localhost:8080/"
        },
        "id": "NtAIxFw8DxWy",
        "outputId": "8525a213-8839-4c6e-9a1c-d1962e703225"
      },
      "execution_count": null,
      "outputs": [
        {
          "output_type": "stream",
          "name": "stdout",
          "text": [
            "[[1. 0. 0. 0.]\n",
            " [0. 1. 0. 0.]\n",
            " [0. 0. 1. 0.]\n",
            " [0. 0. 0. 1.]]\n"
          ]
        }
      ]
    },
    {
      "cell_type": "code",
      "source": [
        "print(np.arange(5,dtype=np.int32))"
      ],
      "metadata": {
        "colab": {
          "base_uri": "https://localhost:8080/"
        },
        "id": "HRcqNyp3D3l3",
        "outputId": "d12f616b-23f4-4a07-f928-8e680b49439b"
      },
      "execution_count": null,
      "outputs": [
        {
          "output_type": "stream",
          "name": "stdout",
          "text": [
            "[0 1 2 3 4]\n"
          ]
        }
      ]
    },
    {
      "cell_type": "code",
      "source": [
        "#astype type casting"
      ],
      "metadata": {
        "id": "dmejQ2LHEB47"
      },
      "execution_count": null,
      "outputs": []
    },
    {
      "cell_type": "code",
      "source": [
        "a=np.array([1.2,2.5,600])\n",
        "b=a.astype(np.int32)\n",
        "print(b)"
      ],
      "metadata": {
        "colab": {
          "base_uri": "https://localhost:8080/"
        },
        "id": "6hmulBWXEI0F",
        "outputId": "e981e79c-b159-4e16-af81-f47456566691"
      },
      "execution_count": null,
      "outputs": [
        {
          "output_type": "stream",
          "name": "stdout",
          "text": [
            "[  1   2 600]\n"
          ]
        }
      ]
    },
    {
      "cell_type": "code",
      "source": [
        "a1=np.array([[2,2,2],[3,3,3]])\n",
        "a2=a1+2\n",
        "print(a2)"
      ],
      "metadata": {
        "colab": {
          "base_uri": "https://localhost:8080/"
        },
        "id": "xDLnyjo1EJqg",
        "outputId": "80f768e3-7bef-415c-9950-5f06b0dfe061"
      },
      "execution_count": null,
      "outputs": [
        {
          "output_type": "stream",
          "name": "stdout",
          "text": [
            "[[4 4 4]\n",
            " [5 5 5]]\n"
          ]
        }
      ]
    },
    {
      "cell_type": "code",
      "source": [
        "a3=a1+a1\n",
        "print(a3)\n",
        "a2=a1*2\n",
        "print(a2)\n",
        "a4=a1//2\n",
        "print(a4)"
      ],
      "metadata": {
        "colab": {
          "base_uri": "https://localhost:8080/"
        },
        "id": "xOonxvqXELMZ",
        "outputId": "16ff00fd-765f-46d6-c861-689876bb60ac"
      },
      "execution_count": null,
      "outputs": [
        {
          "output_type": "stream",
          "name": "stdout",
          "text": [
            "[[4 4 4]\n",
            " [6 6 6]]\n",
            "[[4 4 4]\n",
            " [6 6 6]]\n",
            "[[1 1 1]\n",
            " [1 1 1]]\n"
          ]
        }
      ]
    },
    {
      "cell_type": "code",
      "source": [
        "#arithmatice using numpy array"
      ],
      "metadata": {
        "id": "61O1EO1VEQeX"
      },
      "execution_count": null,
      "outputs": []
    },
    {
      "cell_type": "code",
      "source": [
        "import numpy as np\n",
        "a1=np.array([[2,2,2],[3,3,3]])\n",
        "print(a1+2) #arithmatice adding"
      ],
      "metadata": {
        "colab": {
          "base_uri": "https://localhost:8080/"
        },
        "id": "BNva_z6rPtll",
        "outputId": "557b604a-83b1-489f-edbb-c20fc868f6cd"
      },
      "execution_count": null,
      "outputs": [
        {
          "output_type": "stream",
          "name": "stdout",
          "text": [
            "[[4 4 4]\n",
            " [5 5 5]]\n"
          ]
        }
      ]
    },
    {
      "cell_type": "code",
      "source": [
        "print(a1+a1)"
      ],
      "metadata": {
        "colab": {
          "base_uri": "https://localhost:8080/"
        },
        "id": "t8qjXBSJPyDa",
        "outputId": "dfa2f8ec-d2fd-4a56-99ca-42711bbbfdd3"
      },
      "execution_count": null,
      "outputs": [
        {
          "output_type": "stream",
          "name": "stdout",
          "text": [
            "[[4 4 4]\n",
            " [6 6 6]]\n"
          ]
        }
      ]
    },
    {
      "cell_type": "code",
      "source": [
        "a2=a1*2\n",
        "print(a2)"
      ],
      "metadata": {
        "colab": {
          "base_uri": "https://localhost:8080/"
        },
        "id": "3URFApvMP0bc",
        "outputId": "9cda17e4-c24b-4bce-ac7e-66de670de091"
      },
      "execution_count": null,
      "outputs": [
        {
          "output_type": "stream",
          "name": "stdout",
          "text": [
            "[[4 4 4]\n",
            " [6 6 6]]\n"
          ]
        }
      ]
    },
    {
      "cell_type": "code",
      "source": [
        "a2//2\n",
        "print(a2)"
      ],
      "metadata": {
        "colab": {
          "base_uri": "https://localhost:8080/"
        },
        "id": "0cw6J-ifP2qC",
        "outputId": "bfdbde6c-2870-452e-8f79-d68c5e9512d5"
      },
      "execution_count": null,
      "outputs": [
        {
          "output_type": "stream",
          "name": "stdout",
          "text": [
            "[[4 4 4]\n",
            " [6 6 6]]\n"
          ]
        }
      ]
    },
    {
      "cell_type": "code",
      "source": [
        "print(a2//a2)"
      ],
      "metadata": {
        "colab": {
          "base_uri": "https://localhost:8080/"
        },
        "id": "8lrzZtx7QBiJ",
        "outputId": "789dc1a5-60f7-4cc9-b823-e4116a45eee5"
      },
      "execution_count": null,
      "outputs": [
        {
          "output_type": "stream",
          "name": "stdout",
          "text": [
            "[[1 1 1]\n",
            " [1 1 1]]\n"
          ]
        }
      ]
    },
    {
      "cell_type": "code",
      "source": [
        "print(a3)"
      ],
      "metadata": {
        "colab": {
          "base_uri": "https://localhost:8080/"
        },
        "id": "nk7fz3mJQCYq",
        "outputId": "e91cbedc-7c06-4a41-87fe-bf9398fef20a"
      },
      "execution_count": null,
      "outputs": [
        {
          "output_type": "stream",
          "name": "stdout",
          "text": [
            "[[4 4 4]\n",
            " [6 6 6]]\n"
          ]
        }
      ]
    },
    {
      "cell_type": "code",
      "source": [
        "print(6/a1)"
      ],
      "metadata": {
        "colab": {
          "base_uri": "https://localhost:8080/"
        },
        "id": "y4b0p0T4QI9Q",
        "outputId": "25573934-cc7c-444b-fbf9-c581738facd5"
      },
      "execution_count": null,
      "outputs": [
        {
          "output_type": "stream",
          "name": "stdout",
          "text": [
            "[[3. 3. 3.]\n",
            " [2. 2. 2.]]\n"
          ]
        }
      ]
    },
    {
      "cell_type": "code",
      "source": [
        "print(a1**2)"
      ],
      "metadata": {
        "colab": {
          "base_uri": "https://localhost:8080/"
        },
        "id": "O_KMSqbKQKi4",
        "outputId": "e03e6927-9f6a-4d7d-e1d5-9ae18f9eae0e"
      },
      "execution_count": null,
      "outputs": [
        {
          "output_type": "stream",
          "name": "stdout",
          "text": [
            "[[4 4 4]\n",
            " [9 9 9]]\n"
          ]
        }
      ]
    },
    {
      "cell_type": "code",
      "source": [
        "k=5/2\n",
        "print(k)"
      ],
      "metadata": {
        "colab": {
          "base_uri": "https://localhost:8080/"
        },
        "id": "7F-TcIC1QRVS",
        "outputId": "9a757a77-c17c-411f-ce58-f3de998bdc4a"
      },
      "execution_count": null,
      "outputs": [
        {
          "output_type": "stream",
          "name": "stdout",
          "text": [
            "2.5\n"
          ]
        }
      ]
    },
    {
      "cell_type": "code",
      "source": [
        "print(a1>a2)\n",
        "print(a1<a2)"
      ],
      "metadata": {
        "colab": {
          "base_uri": "https://localhost:8080/"
        },
        "id": "Ex0QshgTQTj0",
        "outputId": "06934717-b46d-4a85-d01f-e40bc0723b50"
      },
      "execution_count": null,
      "outputs": [
        {
          "output_type": "stream",
          "name": "stdout",
          "text": [
            "[[False False False]\n",
            " [False False False]]\n",
            "[[ True  True  True]\n",
            " [ True  True  True]]\n"
          ]
        }
      ]
    },
    {
      "cell_type": "code",
      "source": [
        "#indexing and slicing in numpyarray"
      ],
      "metadata": {
        "id": "fnuDbw-XQYqG"
      },
      "execution_count": null,
      "outputs": []
    },
    {
      "cell_type": "code",
      "source": [
        "z=np.arange(10)\n",
        "print(z)"
      ],
      "metadata": {
        "colab": {
          "base_uri": "https://localhost:8080/"
        },
        "id": "rKlgIHQsQa-s",
        "outputId": "2877bd3a-3801-4127-e451-b84c3594b27c"
      },
      "execution_count": null,
      "outputs": [
        {
          "output_type": "stream",
          "name": "stdout",
          "text": [
            "[0 1 2 3 4 5 6 7 8 9]\n"
          ]
        }
      ]
    },
    {
      "cell_type": "code",
      "source": [
        "z[5]"
      ],
      "metadata": {
        "colab": {
          "base_uri": "https://localhost:8080/"
        },
        "id": "tXZ_byoeQdlH",
        "outputId": "b588928f-93c9-4596-954e-5c9d38c9c67c"
      },
      "execution_count": null,
      "outputs": [
        {
          "output_type": "execute_result",
          "data": {
            "text/plain": [
              "5"
            ]
          },
          "metadata": {},
          "execution_count": 115
        }
      ]
    },
    {
      "cell_type": "code",
      "source": [
        "print(z[::-1])"
      ],
      "metadata": {
        "colab": {
          "base_uri": "https://localhost:8080/"
        },
        "id": "BvjPoveiQhUX",
        "outputId": "09103d54-3443-4276-cccd-c1e00b3757c4"
      },
      "execution_count": null,
      "outputs": [
        {
          "output_type": "stream",
          "name": "stdout",
          "text": [
            "[9 8 7 6 5 4 3 2 1 0]\n"
          ]
        }
      ]
    },
    {
      "cell_type": "code",
      "source": [
        "print(z[5:8])"
      ],
      "metadata": {
        "id": "GP7uLcGJQisy",
        "outputId": "4133c7fb-1362-4158-8e60-5943abbb8022",
        "colab": {
          "base_uri": "https://localhost:8080/"
        }
      },
      "execution_count": null,
      "outputs": [
        {
          "output_type": "stream",
          "name": "stdout",
          "text": [
            "[5 6 7]\n"
          ]
        }
      ]
    },
    {
      "cell_type": "code",
      "source": [
        "print(z[::-1])\n",
        "print(z[::2])"
      ],
      "metadata": {
        "id": "8JrC-V8sQn1D",
        "colab": {
          "base_uri": "https://localhost:8080/"
        },
        "outputId": "75ef8380-d6bf-4b6e-dd03-1102ebd5a42c"
      },
      "execution_count": null,
      "outputs": [
        {
          "output_type": "stream",
          "name": "stdout",
          "text": [
            "[9 8 7 6 5 4 3 2 1 0]\n",
            "[0 2 4 6 8]\n"
          ]
        }
      ]
    },
    {
      "cell_type": "code",
      "source": [
        "#boolean indexing/masking"
      ],
      "metadata": {
        "id": "LTYF3ssaQ557"
      },
      "execution_count": null,
      "outputs": []
    },
    {
      "cell_type": "code",
      "source": [
        "import numpy as np"
      ],
      "metadata": {
        "id": "MdFiQ0I7Q811"
      },
      "execution_count": null,
      "outputs": []
    },
    {
      "cell_type": "code",
      "source": [
        "a=np.arange(10)\n",
        "mask=a%3==0\n",
        "print(mask)"
      ],
      "metadata": {
        "colab": {
          "base_uri": "https://localhost:8080/"
        },
        "id": "YBetnmu2Q_C3",
        "outputId": "26ddba40-4aad-4530-e1bc-860472124a6b"
      },
      "execution_count": null,
      "outputs": [
        {
          "output_type": "stream",
          "name": "stdout",
          "text": [
            "[ True False False  True False False  True False False  True]\n"
          ]
        }
      ]
    },
    {
      "cell_type": "code",
      "source": [
        "print(a[mask])"
      ],
      "metadata": {
        "colab": {
          "base_uri": "https://localhost:8080/"
        },
        "id": "-aZekUOvRAn8",
        "outputId": "7691be76-72f2-43de-86b1-a49d23588fb3"
      },
      "execution_count": null,
      "outputs": [
        {
          "output_type": "stream",
          "name": "stdout",
          "text": [
            "[0 3 6 9]\n"
          ]
        }
      ]
    },
    {
      "cell_type": "code",
      "source": [
        "#reshaping, transposing, swaping"
      ],
      "metadata": {
        "id": "4wEkmMLuRCB2"
      },
      "execution_count": null,
      "outputs": []
    },
    {
      "cell_type": "code",
      "source": [
        "a=np.arange(16)\n",
        "print(a)"
      ],
      "metadata": {
        "colab": {
          "base_uri": "https://localhost:8080/"
        },
        "id": "E_tS2v5jRGNC",
        "outputId": "507de522-ae39-4c1f-c0a2-5b20a3d5f3e6"
      },
      "execution_count": null,
      "outputs": [
        {
          "output_type": "stream",
          "name": "stdout",
          "text": [
            "[ 0  1  2  3  4  5  6  7  8  9 10 11 12 13 14 15]\n"
          ]
        }
      ]
    },
    {
      "cell_type": "code",
      "source": [
        "a1=a.reshape((4,4), order='F') #converting from 1d to nd matrix using reshaping or reshape function"
      ],
      "metadata": {
        "id": "Ko9o1UgjRHlG"
      },
      "execution_count": null,
      "outputs": []
    },
    {
      "cell_type": "code",
      "source": [
        "print(a1)"
      ],
      "metadata": {
        "colab": {
          "base_uri": "https://localhost:8080/"
        },
        "id": "m5RRFSTCRNCd",
        "outputId": "fb6ad497-56a0-46df-cf84-ce0eb13319b3"
      },
      "execution_count": null,
      "outputs": [
        {
          "output_type": "stream",
          "name": "stdout",
          "text": [
            "[[ 0  4  8 12]\n",
            " [ 1  5  9 13]\n",
            " [ 2  6 10 14]\n",
            " [ 3  7 11 15]]\n"
          ]
        }
      ]
    },
    {
      "cell_type": "code",
      "source": [
        "print(a1.T) #transpose"
      ],
      "metadata": {
        "colab": {
          "base_uri": "https://localhost:8080/"
        },
        "id": "DOskWtk6RO8U",
        "outputId": "4f5181b5-4220-41e3-eca2-322747134f77"
      },
      "execution_count": null,
      "outputs": [
        {
          "output_type": "stream",
          "name": "stdout",
          "text": [
            "[[ 0  1  2  3]\n",
            " [ 4  5  6  7]\n",
            " [ 8  9 10 11]\n",
            " [12 13 14 15]]\n"
          ]
        }
      ]
    },
    {
      "cell_type": "code",
      "source": [
        "b=a.reshape((2,2,4)) #reshaping\n",
        "print(b)"
      ],
      "metadata": {
        "colab": {
          "base_uri": "https://localhost:8080/"
        },
        "id": "yRfx7fDdRRqI",
        "outputId": "05e60755-33a4-4c42-d9ae-7c9575988de7"
      },
      "execution_count": null,
      "outputs": [
        {
          "output_type": "stream",
          "name": "stdout",
          "text": [
            "[[[ 0  1  2  3]\n",
            "  [ 4  5  6  7]]\n",
            "\n",
            " [[ 8  9 10 11]\n",
            "  [12 13 14 15]]]\n"
          ]
        }
      ]
    },
    {
      "cell_type": "code",
      "source": [
        "b=a.reshape((1,2,8)) #reshaping\n",
        "print(b)"
      ],
      "metadata": {
        "colab": {
          "base_uri": "https://localhost:8080/"
        },
        "id": "jVadbL8sRWgR",
        "outputId": "f60dec54-1d95-4fbd-e990-190655fe2763"
      },
      "execution_count": null,
      "outputs": [
        {
          "output_type": "stream",
          "name": "stdout",
          "text": [
            "[[[ 0  1  2  3  4  5  6  7]\n",
            "  [ 8  9 10 11 12 13 14 15]]]\n"
          ]
        }
      ]
    },
    {
      "cell_type": "code",
      "source": [
        "print(b.shape)\n",
        "print(b.size)\n",
        "print(b.ndim)"
      ],
      "metadata": {
        "colab": {
          "base_uri": "https://localhost:8080/"
        },
        "id": "FFUm5uZjRYrt",
        "outputId": "3d731158-846d-4cca-f69a-901fa93d0509"
      },
      "execution_count": null,
      "outputs": [
        {
          "output_type": "stream",
          "name": "stdout",
          "text": [
            "(1, 2, 8)\n",
            "16\n",
            "3\n"
          ]
        }
      ]
    },
    {
      "cell_type": "code",
      "source": [
        "#dot  product"
      ],
      "metadata": {
        "id": "Zl8dTjwSRkAI"
      },
      "execution_count": null,
      "outputs": []
    },
    {
      "cell_type": "code",
      "source": [
        "print(a1)"
      ],
      "metadata": {
        "colab": {
          "base_uri": "https://localhost:8080/"
        },
        "id": "8pV6BwNmRmA_",
        "outputId": "55f41c45-f11c-4395-e73b-e4c0319d210b"
      },
      "execution_count": null,
      "outputs": [
        {
          "output_type": "stream",
          "name": "stdout",
          "text": [
            "[[ 0  4  8 12]\n",
            " [ 1  5  9 13]\n",
            " [ 2  6 10 14]\n",
            " [ 3  7 11 15]]\n"
          ]
        }
      ]
    },
    {
      "cell_type": "code",
      "source": [
        "print(a1.T)"
      ],
      "metadata": {
        "colab": {
          "base_uri": "https://localhost:8080/"
        },
        "id": "rJBR8Yw1RoLW",
        "outputId": "0738f4f1-3d85-469e-d988-122ad20c5614"
      },
      "execution_count": null,
      "outputs": [
        {
          "output_type": "stream",
          "name": "stdout",
          "text": [
            "[[ 0  1  2  3]\n",
            " [ 4  5  6  7]\n",
            " [ 8  9 10 11]\n",
            " [12 13 14 15]]\n"
          ]
        }
      ]
    },
    {
      "cell_type": "code",
      "source": [
        "print(np.dot(a1,a1.T))"
      ],
      "metadata": {
        "colab": {
          "base_uri": "https://localhost:8080/"
        },
        "id": "eTHQc8kQRpZz",
        "outputId": "3e046e2f-b58e-428b-e7ab-6bdc67d4284c"
      },
      "execution_count": null,
      "outputs": [
        {
          "output_type": "stream",
          "name": "stdout",
          "text": [
            "[[224 248 272 296]\n",
            " [248 276 304 332]\n",
            " [272 304 336 368]\n",
            " [296 332 368 404]]\n"
          ]
        }
      ]
    },
    {
      "cell_type": "code",
      "source": [
        "print(a1.swapaxes(1,0))"
      ],
      "metadata": {
        "colab": {
          "base_uri": "https://localhost:8080/"
        },
        "id": "VeynoCPIRqqI",
        "outputId": "a73706cd-93fb-4a1e-9e6a-12172d1a8c6b"
      },
      "execution_count": null,
      "outputs": [
        {
          "output_type": "stream",
          "name": "stdout",
          "text": [
            "[[ 0  1  2  3]\n",
            " [ 4  5  6  7]\n",
            " [ 8  9 10 11]\n",
            " [12 13 14 15]]\n"
          ]
        }
      ]
    },
    {
      "cell_type": "code",
      "source": [
        "#Function in array"
      ],
      "metadata": {
        "id": "jlwAJTLvRvnz"
      },
      "execution_count": null,
      "outputs": []
    },
    {
      "cell_type": "code",
      "source": [
        "a=np.array([3,4,2,1,9,8,6,7,0,5])\n",
        "a.sort() #shorting the data\n",
        "print(a)\n",
        "print(np.square(a)) #for sqauare of anny numbeer\n",
        "print(np.sqrt([30,265,9000]))"
      ],
      "metadata": {
        "colab": {
          "base_uri": "https://localhost:8080/"
        },
        "id": "tw829NsSRz-K",
        "outputId": "e1236860-4c91-4353-c178-694c29567bc2"
      },
      "execution_count": null,
      "outputs": [
        {
          "output_type": "stream",
          "name": "stdout",
          "text": [
            "[0 1 2 3 4 5 6 7 8 9]\n",
            "[ 0  1  4  9 16 25 36 49 64 81]\n",
            "[ 5.47722558 16.2788206  94.86832981]\n"
          ]
        }
      ]
    },
    {
      "cell_type": "code",
      "source": [
        "print(np.abs([-1.5,-9.5,-999.0]))"
      ],
      "metadata": {
        "colab": {
          "base_uri": "https://localhost:8080/"
        },
        "id": "gjA7t6WzR9bL",
        "outputId": "720f6286-374f-4795-865c-41edb8685aad"
      },
      "execution_count": null,
      "outputs": [
        {
          "output_type": "stream",
          "name": "stdout",
          "text": [
            "[  1.5   9.5 999. ]\n"
          ]
        }
      ]
    },
    {
      "cell_type": "code",
      "source": [
        "k=np.array([4,6,8,9])\n",
        "k2=np.array([2,3,4,3])\n",
        "print(np.add(k,k2))\n",
        "print(np.subtract(k,k2))\n",
        "print(np.multiply(k,k2))\n",
        "print(np.divide(k,k2))\n",
        "print(np.maximum(k,k2))\n",
        "print(np.minimum(k,k2))\n",
        "print(np.power(k,k2))\n",
        "print(np.greater(k,k2))\n",
        "print(np.less(k,k2))"
      ],
      "metadata": {
        "colab": {
          "base_uri": "https://localhost:8080/"
        },
        "id": "wnmEmij-SA6u",
        "outputId": "b51d6c07-1027-43d5-fe61-8787b6ab74ef"
      },
      "execution_count": null,
      "outputs": [
        {
          "output_type": "stream",
          "name": "stdout",
          "text": [
            "[ 6  9 12 12]\n",
            "[2 3 4 6]\n",
            "[ 8 18 32 27]\n",
            "[2. 2. 2. 3.]\n",
            "[4 6 8 9]\n",
            "[2 3 4 3]\n",
            "[  16  216 4096  729]\n",
            "[ True  True  True  True]\n",
            "[False False False False]\n"
          ]
        }
      ]
    },
    {
      "cell_type": "code",
      "source": [
        "print(np.concatenate((k,k2)))"
      ],
      "metadata": {
        "colab": {
          "base_uri": "https://localhost:8080/"
        },
        "id": "vO17kXwaSWep",
        "outputId": "654dd5e0-1a7e-4ba6-c133-5d21e15bf409"
      },
      "execution_count": null,
      "outputs": [
        {
          "output_type": "stream",
          "name": "stdout",
          "text": [
            "[4 6 8 9 2 3 4 3]\n"
          ]
        }
      ]
    },
    {
      "cell_type": "code",
      "source": [
        "#basic mathmetical statistical function"
      ],
      "metadata": {
        "id": "y-T5IYCfSZbZ"
      },
      "execution_count": null,
      "outputs": []
    },
    {
      "cell_type": "code",
      "source": [
        "a=np.array([3,4,5,6,7,8]) #finding mean (Average  of all number)\n",
        "print(a.mean())\n",
        "print(np.mean(a))\n",
        "print(a.sum())\n",
        "print(a.min())\n",
        "print(a.max())"
      ],
      "metadata": {
        "colab": {
          "base_uri": "https://localhost:8080/"
        },
        "id": "njKjytFMSf66",
        "outputId": "a5650376-558a-4dbf-e93e-66c99d80d559"
      },
      "execution_count": null,
      "outputs": [
        {
          "output_type": "stream",
          "name": "stdout",
          "text": [
            "5.5\n",
            "5.5\n",
            "33\n",
            "3\n",
            "8\n"
          ]
        }
      ]
    },
    {
      "cell_type": "code",
      "source": [
        "import statistics as st\n",
        "import numpy as np\n",
        "b=np.array([1,1,1,2,3,4,5,6,4,5,6,8])\n",
        "print(st.mode(b))"
      ],
      "metadata": {
        "colab": {
          "base_uri": "https://localhost:8080/"
        },
        "id": "XyqEz6f0StLq",
        "outputId": "c6b9a570-a598-47ac-98f3-ed433e15e715"
      },
      "execution_count": null,
      "outputs": [
        {
          "output_type": "stream",
          "name": "stdout",
          "text": [
            "1\n"
          ]
        }
      ]
    },
    {
      "cell_type": "code",
      "source": [
        "print(np.median(a) ) #middle data of list"
      ],
      "metadata": {
        "colab": {
          "base_uri": "https://localhost:8080/"
        },
        "id": "eCveTcMaSxdM",
        "outputId": "d5577315-0400-46f1-ba3f-495f6fcbf473"
      },
      "execution_count": null,
      "outputs": [
        {
          "output_type": "stream",
          "name": "stdout",
          "text": [
            "5.5\n"
          ]
        }
      ]
    },
    {
      "cell_type": "code",
      "source": [
        "data=np.array([2,4,6,8,10])\n",
        "np.median(data)"
      ],
      "metadata": {
        "colab": {
          "base_uri": "https://localhost:8080/"
        },
        "id": "bkdtvTWNS14w",
        "outputId": "c7bdab38-e6f7-4fbf-e635-34299ad8c3e8"
      },
      "execution_count": null,
      "outputs": [
        {
          "output_type": "execute_result",
          "data": {
            "text/plain": [
              "6.0"
            ]
          },
          "metadata": {},
          "execution_count": 146
        }
      ]
    },
    {
      "cell_type": "code",
      "source": [
        "#median(middle value of the data)\n",
        "#short the data\n",
        "#find the middle value\n",
        "#if their are two middle value, the we will find the avergae of those two value that will call as the median of the data"
      ],
      "metadata": {
        "id": "R7o1rlwlS3kK"
      },
      "execution_count": null,
      "outputs": []
    },
    {
      "cell_type": "code",
      "source": [
        "data=[4,5,6,7,2,3]\n",
        "np.median(data)"
      ],
      "metadata": {
        "colab": {
          "base_uri": "https://localhost:8080/"
        },
        "id": "ZIhOSIdHS71i",
        "outputId": "08816ef0-e619-4ae4-eb9e-18eade00814d"
      },
      "execution_count": null,
      "outputs": [
        {
          "output_type": "execute_result",
          "data": {
            "text/plain": [
              "4.5"
            ]
          },
          "metadata": {},
          "execution_count": 147
        }
      ]
    },
    {
      "cell_type": "code",
      "source": [
        "data=[2,4,6,8,10,1000] #outlaier\n",
        "np.mean(data)"
      ],
      "metadata": {
        "colab": {
          "base_uri": "https://localhost:8080/"
        },
        "id": "hNFwwFAfS8n-",
        "outputId": "e4bfee99-2ae8-42b8-aa9c-2a5d8e4aaec8"
      },
      "execution_count": null,
      "outputs": [
        {
          "output_type": "execute_result",
          "data": {
            "text/plain": [
              "171.66666666666666"
            ]
          },
          "metadata": {},
          "execution_count": 148
        }
      ]
    },
    {
      "cell_type": "code",
      "source": [
        "#variance\n",
        "#calculate the mean of the data\n",
        "#calculate the distance from the points to the mean\n",
        "#calculate the distance from points to the mean.\n",
        "#calculate the squared distance\n",
        "#calculate the sum of the squared distance\n",
        "#divide by the total number of values"
      ],
      "metadata": {
        "id": "UcpeQ1eBS_ex"
      },
      "execution_count": null,
      "outputs": []
    },
    {
      "cell_type": "code",
      "source": [
        "sata=[2,4,6,8,10]\n",
        "np.var(sata)"
      ],
      "metadata": {
        "colab": {
          "base_uri": "https://localhost:8080/"
        },
        "id": "J0brHU75TBjb",
        "outputId": "911dda3e-d3f3-4630-bd19-943dca5b6dbb"
      },
      "execution_count": null,
      "outputs": [
        {
          "output_type": "execute_result",
          "data": {
            "text/plain": [
              "8.0"
            ]
          },
          "metadata": {},
          "execution_count": 150
        }
      ]
    },
    {
      "cell_type": "code",
      "source": [
        "np.random.seed(0) #seed function in  numpy Fixed the data while using random in numpy (any positive integer will call as seed value)"
      ],
      "metadata": {
        "id": "2m00gqo1TD0M"
      },
      "execution_count": null,
      "outputs": []
    },
    {
      "cell_type": "code",
      "source": [
        "x1=np.random.randint(10,size=6)\n",
        "print(x1)\n",
        "\n",
        "print()\n",
        "\n",
        "x2=np.random.randint(10,size=(3,4))\n",
        "print(x2)"
      ],
      "metadata": {
        "colab": {
          "base_uri": "https://localhost:8080/"
        },
        "id": "5-95IcpTTFyi",
        "outputId": "f5056084-572b-4305-a7b0-805ae81c1306"
      },
      "execution_count": null,
      "outputs": [
        {
          "output_type": "stream",
          "name": "stdout",
          "text": [
            "[5 0 3 3 7 9]\n",
            "\n",
            "[[3 5 2 4]\n",
            " [7 6 8 8]\n",
            " [1 6 7 7]]\n"
          ]
        }
      ]
    },
    {
      "cell_type": "code",
      "source": [
        "x3=np.random.randint(10,size=(3,4,5))\n",
        "print(x3)"
      ],
      "metadata": {
        "colab": {
          "base_uri": "https://localhost:8080/"
        },
        "id": "2GIMdWE6TMdL",
        "outputId": "4617a79c-e51e-4050-c352-0f13a659e340"
      },
      "execution_count": null,
      "outputs": [
        {
          "output_type": "stream",
          "name": "stdout",
          "text": [
            "[[[8 1 5 9 8]\n",
            "  [9 4 3 0 3]\n",
            "  [5 0 2 3 8]\n",
            "  [1 3 3 3 7]]\n",
            "\n",
            " [[0 1 9 9 0]\n",
            "  [4 7 3 2 7]\n",
            "  [2 0 0 4 5]\n",
            "  [5 6 8 4 1]]\n",
            "\n",
            " [[4 9 8 1 1]\n",
            "  [7 9 9 3 6]\n",
            "  [7 2 0 3 5]\n",
            "  [9 4 4 6 4]]]\n"
          ]
        }
      ]
    },
    {
      "cell_type": "code",
      "source": [
        "print(x3.ndim)\n",
        "print(x3.shape)\n",
        "print(x3.size)\n",
        "print(x3.dtype)\n",
        "print(x3.itemsize)\n",
        "print(x3.nbytes)\n",
        "print(x1)"
      ],
      "metadata": {
        "colab": {
          "base_uri": "https://localhost:8080/"
        },
        "id": "QPV-gPLJTOqs",
        "outputId": "766a253c-b45c-4a44-f9c3-ac494f0d8f66"
      },
      "execution_count": null,
      "outputs": [
        {
          "output_type": "stream",
          "name": "stdout",
          "text": [
            "3\n",
            "(3, 4, 5)\n",
            "60\n",
            "int64\n",
            "8\n",
            "480\n",
            "[5 0 3 3 7 9]\n"
          ]
        }
      ]
    },
    {
      "cell_type": "code",
      "source": [
        "x1[0]"
      ],
      "metadata": {
        "colab": {
          "base_uri": "https://localhost:8080/"
        },
        "id": "pwp30BFgTc5r",
        "outputId": "e147f44a-15bf-4677-a0f6-dd0d8b1f2418"
      },
      "execution_count": null,
      "outputs": [
        {
          "output_type": "execute_result",
          "data": {
            "text/plain": [
              "5"
            ]
          },
          "metadata": {},
          "execution_count": 155
        }
      ]
    },
    {
      "cell_type": "code",
      "source": [
        "x1[4]"
      ],
      "metadata": {
        "colab": {
          "base_uri": "https://localhost:8080/"
        },
        "id": "rZKa8qdaTgID",
        "outputId": "4e3dd05d-0dba-4922-82d7-4b1ebb3024c2"
      },
      "execution_count": null,
      "outputs": [
        {
          "output_type": "execute_result",
          "data": {
            "text/plain": [
              "7"
            ]
          },
          "metadata": {},
          "execution_count": 156
        }
      ]
    },
    {
      "cell_type": "code",
      "source": [
        "x1[-1]"
      ],
      "metadata": {
        "colab": {
          "base_uri": "https://localhost:8080/"
        },
        "id": "zaG0gqdIThtl",
        "outputId": "535c0ca7-73dd-43bc-da0c-dc8b8132c4dc"
      },
      "execution_count": null,
      "outputs": [
        {
          "output_type": "execute_result",
          "data": {
            "text/plain": [
              "9"
            ]
          },
          "metadata": {},
          "execution_count": 157
        }
      ]
    },
    {
      "cell_type": "code",
      "source": [
        "x1[-2]"
      ],
      "metadata": {
        "colab": {
          "base_uri": "https://localhost:8080/"
        },
        "id": "yX3iAaspTmKT",
        "outputId": "e426ce20-a58f-4028-af53-f629d828b027"
      },
      "execution_count": null,
      "outputs": [
        {
          "output_type": "execute_result",
          "data": {
            "text/plain": [
              "7"
            ]
          },
          "metadata": {},
          "execution_count": 159
        }
      ]
    },
    {
      "cell_type": "code",
      "source": [
        "print(x2)"
      ],
      "metadata": {
        "colab": {
          "base_uri": "https://localhost:8080/"
        },
        "id": "uF-9Wk56Ti7u",
        "outputId": "40fac994-ff77-4d41-c753-93b5ba9c2bfb"
      },
      "execution_count": null,
      "outputs": [
        {
          "output_type": "stream",
          "name": "stdout",
          "text": [
            "[[3 5 2 4]\n",
            " [7 6 8 8]\n",
            " [1 6 7 7]]\n"
          ]
        }
      ]
    },
    {
      "cell_type": "code",
      "source": [
        "x2[0,0]"
      ],
      "metadata": {
        "colab": {
          "base_uri": "https://localhost:8080/"
        },
        "id": "txOYtLpgTlcZ",
        "outputId": "9c8bf3ce-5a22-4c8a-9ced-088d2d6de2e7"
      },
      "execution_count": null,
      "outputs": [
        {
          "output_type": "execute_result",
          "data": {
            "text/plain": [
              "3"
            ]
          },
          "metadata": {},
          "execution_count": 160
        }
      ]
    },
    {
      "cell_type": "code",
      "source": [
        "x2[2,0]"
      ],
      "metadata": {
        "colab": {
          "base_uri": "https://localhost:8080/"
        },
        "id": "uyPulF1nTpgl",
        "outputId": "a64dbd24-2810-4ca8-f341-03e715777db1"
      },
      "execution_count": null,
      "outputs": [
        {
          "output_type": "execute_result",
          "data": {
            "text/plain": [
              "1"
            ]
          },
          "metadata": {},
          "execution_count": 161
        }
      ]
    },
    {
      "cell_type": "code",
      "source": [
        "x2[2,-1]"
      ],
      "metadata": {
        "colab": {
          "base_uri": "https://localhost:8080/"
        },
        "id": "XdWQ7V0cTqej",
        "outputId": "8ecca357-cae0-4144-d436-6e7862b1a51b"
      },
      "execution_count": null,
      "outputs": [
        {
          "output_type": "execute_result",
          "data": {
            "text/plain": [
              "7"
            ]
          },
          "metadata": {},
          "execution_count": 162
        }
      ]
    },
    {
      "cell_type": "code",
      "source": [
        "x2[0,0]=100 #replacing the data according to the index"
      ],
      "metadata": {
        "id": "cTQxE-glTrX9"
      },
      "execution_count": null,
      "outputs": []
    },
    {
      "cell_type": "code",
      "source": [
        "print(x2)"
      ],
      "metadata": {
        "colab": {
          "base_uri": "https://localhost:8080/"
        },
        "id": "9dYI2_33Tw9R",
        "outputId": "8fd8ed34-dfc0-4ce0-88c6-429016365fe2"
      },
      "execution_count": null,
      "outputs": [
        {
          "output_type": "stream",
          "name": "stdout",
          "text": [
            "[[100   5   2   4]\n",
            " [  7   6   8   8]\n",
            " [  1   6   7   7]]\n"
          ]
        }
      ]
    },
    {
      "cell_type": "code",
      "source": [
        "x2[0,0]=1.1 #truncate the value floor data can't be insterted in matrix but we can add floor however we can get the integer value only.\n",
        "print(x2)"
      ],
      "metadata": {
        "colab": {
          "base_uri": "https://localhost:8080/"
        },
        "id": "vmRSfQrTTyaP",
        "outputId": "f711de0e-c1a7-46ab-9b82-5e6044bd6c85"
      },
      "execution_count": null,
      "outputs": [
        {
          "output_type": "stream",
          "name": "stdout",
          "text": [
            "[[1 5 2 4]\n",
            " [7 6 8 8]\n",
            " [1 6 7 7]]\n"
          ]
        }
      ]
    },
    {
      "cell_type": "code",
      "source": [
        "x=np.arange(10)\n",
        "print(x)"
      ],
      "metadata": {
        "colab": {
          "base_uri": "https://localhost:8080/"
        },
        "id": "z5YNh7yLT1w7",
        "outputId": "1222ddfd-b4ca-49bf-e150-d82a0159950a"
      },
      "execution_count": null,
      "outputs": [
        {
          "output_type": "stream",
          "name": "stdout",
          "text": [
            "[0 1 2 3 4 5 6 7 8 9]\n"
          ]
        }
      ]
    },
    {
      "cell_type": "code",
      "source": [
        "print(x[0:5])\n",
        "print(x[5:])\n",
        "print(x[4:7])\n",
        "print(x[::2])\n",
        "print(x[1::2])\n",
        "print(x[::-1])\n",
        "print(x[5::-2])"
      ],
      "metadata": {
        "colab": {
          "base_uri": "https://localhost:8080/"
        },
        "id": "odgijTMzUAkX",
        "outputId": "55b0f6b8-6f05-4ee1-d9c3-c61d7c339906"
      },
      "execution_count": null,
      "outputs": [
        {
          "output_type": "stream",
          "name": "stdout",
          "text": [
            "[0 1 2 3 4]\n",
            "[5 6 7 8 9]\n",
            "[4 5 6]\n",
            "[0 2 4 6 8]\n",
            "[1 3 5 7 9]\n",
            "[9 8 7 6 5 4 3 2 1 0]\n",
            "[5 3 1]\n"
          ]
        }
      ]
    },
    {
      "cell_type": "code",
      "source": [
        "print(x2)"
      ],
      "metadata": {
        "colab": {
          "base_uri": "https://localhost:8080/"
        },
        "id": "ZBejTrutUICI",
        "outputId": "47c97415-d6c7-41a7-d8a2-8dd174ec2ba6"
      },
      "execution_count": null,
      "outputs": [
        {
          "output_type": "stream",
          "name": "stdout",
          "text": [
            "[[1 5 2 4]\n",
            " [7 6 8 8]\n",
            " [1 6 7 7]]\n"
          ]
        }
      ]
    },
    {
      "cell_type": "code",
      "source": [
        "print(x2[0:2])"
      ],
      "metadata": {
        "colab": {
          "base_uri": "https://localhost:8080/"
        },
        "id": "nVuYiZ93UZCB",
        "outputId": "faf5aa23-ddcd-4847-e8b1-1788c93797a7"
      },
      "execution_count": null,
      "outputs": [
        {
          "output_type": "stream",
          "name": "stdout",
          "text": [
            "[[1 5 2 4]\n",
            " [7 6 8 8]]\n"
          ]
        }
      ]
    },
    {
      "cell_type": "code",
      "source": [
        "print(x2[:2,:3]) #use of sclicing (before:-row after :-column)"
      ],
      "metadata": {
        "colab": {
          "base_uri": "https://localhost:8080/"
        },
        "id": "SGydkFe1UaUz",
        "outputId": "a63e1109-5ead-495c-ab71-dc1e66acfdb4"
      },
      "execution_count": null,
      "outputs": [
        {
          "output_type": "stream",
          "name": "stdout",
          "text": [
            "[[1 5 2]\n",
            " [7 6 8]]\n"
          ]
        }
      ]
    },
    {
      "cell_type": "code",
      "source": [
        "print(x2[:3,:2])\n",
        "print()\n",
        "print(x2[0:3:2])\n",
        "print()\n",
        "print(x2[:3,::2])"
      ],
      "metadata": {
        "colab": {
          "base_uri": "https://localhost:8080/"
        },
        "id": "nBF-SCAxUltK",
        "outputId": "76b0f765-99fc-487e-c311-a49112fcf222"
      },
      "execution_count": null,
      "outputs": [
        {
          "output_type": "stream",
          "name": "stdout",
          "text": [
            "[[1 5]\n",
            " [7 6]\n",
            " [1 6]]\n",
            "\n",
            "[[1 5 2 4]\n",
            " [1 6 7 7]]\n",
            "\n",
            "[[1 2]\n",
            " [7 8]\n",
            " [1 7]]\n"
          ]
        }
      ]
    },
    {
      "cell_type": "code",
      "source": [
        "print(x2)"
      ],
      "metadata": {
        "colab": {
          "base_uri": "https://localhost:8080/"
        },
        "id": "-NwbAFoWU3wN",
        "outputId": "59615928-cb99-4970-9e72-b819a19ac60f"
      },
      "execution_count": null,
      "outputs": [
        {
          "output_type": "stream",
          "name": "stdout",
          "text": [
            "[[1 5 2 4]\n",
            " [7 6 8 8]\n",
            " [1 6 7 7]]\n"
          ]
        }
      ]
    },
    {
      "cell_type": "code",
      "source": [
        "print(x2[::-1])\n",
        "print()\n",
        "print(x2[::-1,::-1])"
      ],
      "metadata": {
        "colab": {
          "base_uri": "https://localhost:8080/"
        },
        "id": "c5EgjA1TU-H1",
        "outputId": "9c364383-e032-4ebb-c374-49cc1c653366"
      },
      "execution_count": null,
      "outputs": [
        {
          "output_type": "stream",
          "name": "stdout",
          "text": [
            "[[1 6 7 7]\n",
            " [7 6 8 8]\n",
            " [1 5 2 4]]\n",
            "\n",
            "[[7 7 6 1]\n",
            " [8 8 6 7]\n",
            " [4 2 5 1]]\n"
          ]
        }
      ]
    },
    {
      "cell_type": "code",
      "source": [
        "print(x2)"
      ],
      "metadata": {
        "colab": {
          "base_uri": "https://localhost:8080/"
        },
        "id": "khFaXl6GVGfW",
        "outputId": "1b11fcd3-c6ff-4284-df30-d435aba7da25"
      },
      "execution_count": null,
      "outputs": [
        {
          "output_type": "stream",
          "name": "stdout",
          "text": [
            "[[1 5 2 4]\n",
            " [7 6 8 8]\n",
            " [1 6 7 7]]\n"
          ]
        }
      ]
    },
    {
      "cell_type": "code",
      "source": [
        "print(x2[:,0])\n",
        "print()\n",
        "print(x2[0,:])\n",
        "print()\n",
        "print(x2[0])\n",
        "print()\n",
        "print(x2[:,1:2])\n",
        "print()\n"
      ],
      "metadata": {
        "colab": {
          "base_uri": "https://localhost:8080/"
        },
        "id": "zULEzAK-VIAj",
        "outputId": "df770cc6-992e-461e-cd85-b80636ffa319"
      },
      "execution_count": null,
      "outputs": [
        {
          "output_type": "stream",
          "name": "stdout",
          "text": [
            "[1 7 1]\n",
            "\n",
            "[1 5 2 4]\n",
            "\n",
            "[1 5 2 4]\n",
            "\n",
            "[[5]\n",
            " [6]\n",
            " [6]]\n",
            "\n"
          ]
        }
      ]
    },
    {
      "cell_type": "code",
      "source": [
        "k=x2[:2,:2]\n",
        "print(k)"
      ],
      "metadata": {
        "colab": {
          "base_uri": "https://localhost:8080/"
        },
        "id": "BX0H_MExVULR",
        "outputId": "20917ee4-70e4-48fb-e33c-04a78a5c339d"
      },
      "execution_count": null,
      "outputs": [
        {
          "output_type": "stream",
          "name": "stdout",
          "text": [
            "[[1 5]\n",
            " [7 6]]\n"
          ]
        }
      ]
    },
    {
      "cell_type": "code",
      "source": [
        "np.random.seed(0)\n"
      ],
      "metadata": {
        "id": "A5dEGImuVWuP"
      },
      "execution_count": null,
      "outputs": []
    },
    {
      "cell_type": "code",
      "source": [
        "x2=np.random.randint(10,size=(3,4))\n",
        "print(x2)"
      ],
      "metadata": {
        "colab": {
          "base_uri": "https://localhost:8080/"
        },
        "id": "qenPLjlCVn3o",
        "outputId": "e5a20265-f274-4f44-d34b-1fef4aa9a5f4"
      },
      "execution_count": null,
      "outputs": [
        {
          "output_type": "stream",
          "name": "stdout",
          "text": [
            "[[5 0 3 3]\n",
            " [7 9 3 5]\n",
            " [2 4 7 6]]\n"
          ]
        }
      ]
    },
    {
      "cell_type": "code",
      "source": [
        "k=x2[:2,:2]\n",
        "print(k)"
      ],
      "metadata": {
        "colab": {
          "base_uri": "https://localhost:8080/"
        },
        "id": "H3TSUYYMVqgN",
        "outputId": "53b86e10-e2de-407d-f805-a6188b0e3cdb"
      },
      "execution_count": null,
      "outputs": [
        {
          "output_type": "stream",
          "name": "stdout",
          "text": [
            "[[5 0]\n",
            " [7 9]]\n"
          ]
        }
      ]
    },
    {
      "cell_type": "code",
      "source": [
        "k[0,0]=777\n",
        "print(k)"
      ],
      "metadata": {
        "colab": {
          "base_uri": "https://localhost:8080/"
        },
        "id": "zrTz5Qp4Vrr1",
        "outputId": "017a6add-4f24-47b9-a8c2-d33a707ad702"
      },
      "execution_count": null,
      "outputs": [
        {
          "output_type": "stream",
          "name": "stdout",
          "text": [
            "[[777   0]\n",
            " [  7   9]]\n"
          ]
        }
      ]
    },
    {
      "cell_type": "code",
      "source": [
        "print(x2)"
      ],
      "metadata": {
        "colab": {
          "base_uri": "https://localhost:8080/"
        },
        "id": "BDYZ0EsyVtG3",
        "outputId": "50dbd3d2-5d6a-4943-e944-8676bf910aa8"
      },
      "execution_count": null,
      "outputs": [
        {
          "output_type": "stream",
          "name": "stdout",
          "text": [
            "[[777   0   3   3]\n",
            " [  7   9   3   5]\n",
            " [  2   4   7   6]]\n"
          ]
        }
      ]
    },
    {
      "cell_type": "code",
      "source": [
        "k3=x2[:2,:2].copy()\n",
        "print(k3)"
      ],
      "metadata": {
        "colab": {
          "base_uri": "https://localhost:8080/"
        },
        "id": "DbLPDLtzVurr",
        "outputId": "2c556449-a1be-4e21-8e24-26691ea10e78"
      },
      "execution_count": null,
      "outputs": [
        {
          "output_type": "stream",
          "name": "stdout",
          "text": [
            "[[777   0]\n",
            " [  7   9]]\n"
          ]
        }
      ]
    },
    {
      "cell_type": "code",
      "source": [
        "k3[0,0]=444\n",
        "print(k3)"
      ],
      "metadata": {
        "colab": {
          "base_uri": "https://localhost:8080/"
        },
        "id": "Q7JOg3tRVxA6",
        "outputId": "2eb63ee6-417d-44b1-c070-c13680357a6c"
      },
      "execution_count": null,
      "outputs": [
        {
          "output_type": "stream",
          "name": "stdout",
          "text": [
            "[[444   0]\n",
            " [  7   9]]\n"
          ]
        }
      ]
    },
    {
      "cell_type": "code",
      "source": [
        "print(x2)"
      ],
      "metadata": {
        "colab": {
          "base_uri": "https://localhost:8080/"
        },
        "id": "TnIXTWuhVx-i",
        "outputId": "c791cea4-d7ef-4769-96d5-0312bc2d2e0d"
      },
      "execution_count": null,
      "outputs": [
        {
          "output_type": "stream",
          "name": "stdout",
          "text": [
            "[[777   0   3   3]\n",
            " [  7   9   3   5]\n",
            " [  2   4   7   6]]\n"
          ]
        }
      ]
    },
    {
      "cell_type": "code",
      "source": [
        "#reshaping"
      ],
      "metadata": {
        "id": "JSm6gtaHVy7q"
      },
      "execution_count": null,
      "outputs": []
    },
    {
      "cell_type": "code",
      "source": [
        "g=np.arange(1,10).reshape((3,3))\n",
        "print(g)"
      ],
      "metadata": {
        "colab": {
          "base_uri": "https://localhost:8080/"
        },
        "id": "Xt1jEL3lV2UM",
        "outputId": "443ec113-7d21-4e09-aedc-2c46357c69bc"
      },
      "execution_count": null,
      "outputs": [
        {
          "output_type": "stream",
          "name": "stdout",
          "text": [
            "[[1 2 3]\n",
            " [4 5 6]\n",
            " [7 8 9]]\n"
          ]
        }
      ]
    },
    {
      "cell_type": "code",
      "source": [
        "x=np.array([1,2,3]).reshape((1,3)) #1 row 3 columns\n",
        "print(x)"
      ],
      "metadata": {
        "colab": {
          "base_uri": "https://localhost:8080/"
        },
        "id": "tY9UA5t0V4R-",
        "outputId": "d686265f-88a8-4344-944b-7d9df067fd6e"
      },
      "execution_count": null,
      "outputs": [
        {
          "output_type": "stream",
          "name": "stdout",
          "text": [
            "[[1 2 3]]\n"
          ]
        }
      ]
    },
    {
      "cell_type": "code",
      "source": [
        "x=np.array([1,2,3]).reshape((3,1)) #3 rows and 1 columns\n",
        "print(x)"
      ],
      "metadata": {
        "colab": {
          "base_uri": "https://localhost:8080/"
        },
        "id": "7dGZ0oRdV6jh",
        "outputId": "ad7ca1d0-7d94-4e5a-8e9c-bca00b557325"
      },
      "execution_count": null,
      "outputs": [
        {
          "output_type": "stream",
          "name": "stdout",
          "text": [
            "[[1]\n",
            " [2]\n",
            " [3]]\n"
          ]
        }
      ]
    },
    {
      "cell_type": "code",
      "source": [
        "#concatination and splitting\n",
        "#concatinate\n",
        "#vstack\n",
        "#hstack"
      ],
      "metadata": {
        "id": "bsfDdJKHV82W"
      },
      "execution_count": null,
      "outputs": []
    },
    {
      "cell_type": "code",
      "source": [
        "x=np.array([1,2,3])\n",
        "y=np.array([3,2,1])\n",
        "k=np.concatenate([x,y])\n",
        "print(k)"
      ],
      "metadata": {
        "colab": {
          "base_uri": "https://localhost:8080/"
        },
        "id": "kuuoxKy5WP-b",
        "outputId": "dbe98fe4-f23a-4846-c493-17f11c5f822d"
      },
      "execution_count": null,
      "outputs": [
        {
          "output_type": "stream",
          "name": "stdout",
          "text": [
            "[1 2 3 3 2 1]\n"
          ]
        }
      ]
    },
    {
      "cell_type": "code",
      "source": [
        "z=[999,999,999]\n",
        "l=np.concatenate([k,z])\n",
        "print(l)"
      ],
      "metadata": {
        "colab": {
          "base_uri": "https://localhost:8080/"
        },
        "id": "6yp3RbyMWTGP",
        "outputId": "a7cc0123-71f8-4097-c025-f4de2a5e6c04"
      },
      "execution_count": null,
      "outputs": [
        {
          "output_type": "stream",
          "name": "stdout",
          "text": [
            "[  1   2   3   3   2   1 999 999 999]\n"
          ]
        }
      ]
    },
    {
      "cell_type": "code",
      "source": [
        "print(np.concatenate([x,y,z]))"
      ],
      "metadata": {
        "colab": {
          "base_uri": "https://localhost:8080/"
        },
        "id": "PBtBGZHIWVUe",
        "outputId": "fdade8a7-14ca-4959-b163-bad701c30b44"
      },
      "execution_count": null,
      "outputs": [
        {
          "output_type": "stream",
          "name": "stdout",
          "text": [
            "[  1   2   3   3   2   1 999 999 999]\n"
          ]
        }
      ]
    },
    {
      "cell_type": "code",
      "source": [
        "h=np.array([[1,2,3],[4,5,6]])\n",
        "print(h)"
      ],
      "metadata": {
        "colab": {
          "base_uri": "https://localhost:8080/"
        },
        "id": "s13QTQ9nWYa7",
        "outputId": "b8ec2822-8410-490f-d344-b43a3b047440"
      },
      "execution_count": null,
      "outputs": [
        {
          "output_type": "stream",
          "name": "stdout",
          "text": [
            "[[1 2 3]\n",
            " [4 5 6]]\n"
          ]
        }
      ]
    },
    {
      "cell_type": "code",
      "source": [
        "print(np.concatenate([h,h]))"
      ],
      "metadata": {
        "colab": {
          "base_uri": "https://localhost:8080/"
        },
        "id": "8mc2spJuWkXs",
        "outputId": "576ee633-a7b7-490d-d662-b889ca2dc2e4"
      },
      "execution_count": null,
      "outputs": [
        {
          "output_type": "stream",
          "name": "stdout",
          "text": [
            "[[1 2 3]\n",
            " [4 5 6]\n",
            " [1 2 3]\n",
            " [4 5 6]]\n"
          ]
        }
      ]
    },
    {
      "cell_type": "code",
      "source": [
        "print(np.concatenate([h,h],axis=1)) #axis=1 convert to horizontal length # axis=0 convert to vertical"
      ],
      "metadata": {
        "colab": {
          "base_uri": "https://localhost:8080/"
        },
        "id": "diJbUMsxWnlw",
        "outputId": "ed4784ad-b757-4974-ff62-329cf9368c6c"
      },
      "execution_count": null,
      "outputs": [
        {
          "output_type": "stream",
          "name": "stdout",
          "text": [
            "[[1 2 3 1 2 3]\n",
            " [4 5 6 4 5 6]]\n"
          ]
        }
      ]
    },
    {
      "cell_type": "code",
      "source": [
        "print(x)"
      ],
      "metadata": {
        "colab": {
          "base_uri": "https://localhost:8080/"
        },
        "id": "CsVdM2q2WtTX",
        "outputId": "46df2e15-228a-45f1-bc07-bd3bd61b237c"
      },
      "execution_count": null,
      "outputs": [
        {
          "output_type": "stream",
          "name": "stdout",
          "text": [
            "[1 2 3]\n"
          ]
        }
      ]
    },
    {
      "cell_type": "code",
      "source": [
        "y=np.array([[9,8,7],[6,5,4]])\n",
        "print(np.vstack([x,y])) #vertical stacking directely add variables\n",
        "print()\n",
        "print(y)"
      ],
      "metadata": {
        "colab": {
          "base_uri": "https://localhost:8080/"
        },
        "id": "YMbUAJzgWvoG",
        "outputId": "21b1bd7c-d97f-4232-a852-dc80f54b8014"
      },
      "execution_count": null,
      "outputs": [
        {
          "output_type": "stream",
          "name": "stdout",
          "text": [
            "[[1 2 3]\n",
            " [9 8 7]\n",
            " [6 5 4]]\n",
            "\n",
            "[[9 8 7]\n",
            " [6 5 4]]\n"
          ]
        }
      ]
    },
    {
      "cell_type": "code",
      "source": [
        "z=np.array([[888],[888]])\n",
        "print(np.hstack([y,z]))"
      ],
      "metadata": {
        "colab": {
          "base_uri": "https://localhost:8080/"
        },
        "id": "Z8-8_3NAW2wh",
        "outputId": "b47f7ddb-0ec0-4a8b-902f-2a6b99f9c6d4"
      },
      "execution_count": null,
      "outputs": [
        {
          "output_type": "stream",
          "name": "stdout",
          "text": [
            "[[  9   8   7 888]\n",
            " [  6   5   4 888]]\n"
          ]
        }
      ]
    },
    {
      "cell_type": "code",
      "source": [
        "x1=[1,2,3,99,99,3,2,1] #splitting the list into matrix\n",
        "y1,y2,y3=np.split(x1,[3,5])\n",
        "print(y1,y2,y3)"
      ],
      "metadata": {
        "colab": {
          "base_uri": "https://localhost:8080/"
        },
        "id": "YoMgAWz7XCLD",
        "outputId": "b839a1da-79f0-4e2d-c906-6d0e46a5a8dd"
      },
      "execution_count": null,
      "outputs": [
        {
          "output_type": "stream",
          "name": "stdout",
          "text": [
            "[1 2 3] [99 99] [3 2 1]\n"
          ]
        }
      ]
    },
    {
      "cell_type": "code",
      "source": [
        "x1=[1,2,3,99,99,3,2,1]\n",
        "y1,y2,y3=np.split(x1,[2,5])\n",
        "print(y1,y2,y3)"
      ],
      "metadata": {
        "colab": {
          "base_uri": "https://localhost:8080/"
        },
        "id": "SfD2mdUMXl_e",
        "outputId": "a5e73fc8-fae6-436b-e274-a5eca623f7de"
      },
      "execution_count": null,
      "outputs": [
        {
          "output_type": "stream",
          "name": "stdout",
          "text": [
            "[1 2] [ 3 99 99] [3 2 1]\n"
          ]
        }
      ]
    },
    {
      "cell_type": "code",
      "source": [
        "x1=[1,2,3,99,99,3,2,1]\n",
        "y1,y2,y3=np.split(x1,[2,6])\n",
        "print(y1,y2,y3)"
      ],
      "metadata": {
        "colab": {
          "base_uri": "https://localhost:8080/"
        },
        "id": "sIFD1wefXnqB",
        "outputId": "de4d2b4f-aafd-4850-a0b2-0bf4b6009c90"
      },
      "execution_count": null,
      "outputs": [
        {
          "output_type": "stream",
          "name": "stdout",
          "text": [
            "[1 2] [ 3 99 99  3] [2 1]\n"
          ]
        }
      ]
    },
    {
      "cell_type": "code",
      "source": [
        "x1=[1,2,3,99,99,3,2,1]\n",
        "y1,y2,y3=np.split(x1,[2,4])\n",
        "print(y1,y2,y3)"
      ],
      "metadata": {
        "colab": {
          "base_uri": "https://localhost:8080/"
        },
        "id": "C3gkV5o2X54O",
        "outputId": "9136afe1-bed8-4c06-a376-bf89a11ab282"
      },
      "execution_count": null,
      "outputs": [
        {
          "output_type": "stream",
          "name": "stdout",
          "text": [
            "[1 2] [ 3 99] [99  3  2  1]\n"
          ]
        }
      ]
    },
    {
      "cell_type": "code",
      "source": [
        "x1=[1,2,3,99,99,3,2,1]\n",
        "y1,y2,y3=np.split(x1,[4,4])\n",
        "print(y1,y2,y3)"
      ],
      "metadata": {
        "colab": {
          "base_uri": "https://localhost:8080/"
        },
        "id": "Tti32t2qX72n",
        "outputId": "d6c7cd86-955a-452d-a347-2ce229575e8a"
      },
      "execution_count": null,
      "outputs": [
        {
          "output_type": "stream",
          "name": "stdout",
          "text": [
            "[ 1  2  3 99] [] [99  3  2  1]\n"
          ]
        }
      ]
    },
    {
      "cell_type": "code",
      "source": [
        "#n-split points lead to n+1 sub array.\n",
        "#np.hsplit and np.vsplit both are function on n-split"
      ],
      "metadata": {
        "id": "x6eSV-wZX9wa"
      },
      "execution_count": null,
      "outputs": []
    },
    {
      "cell_type": "code",
      "source": [
        "l1=np.arange(16).reshape((4,4))\n",
        "print(l1)"
      ],
      "metadata": {
        "colab": {
          "base_uri": "https://localhost:8080/"
        },
        "id": "ketSCD0cYBmv",
        "outputId": "6d6cd732-9ed2-4b01-f8bc-4974007f001d"
      },
      "execution_count": null,
      "outputs": [
        {
          "output_type": "stream",
          "name": "stdout",
          "text": [
            "[[ 0  1  2  3]\n",
            " [ 4  5  6  7]\n",
            " [ 8  9 10 11]\n",
            " [12 13 14 15]]\n"
          ]
        }
      ]
    },
    {
      "cell_type": "code",
      "source": [
        "upper,lower=np.vsplit(l1,[2])\n",
        "print(upper)\n",
        "print(lower)"
      ],
      "metadata": {
        "colab": {
          "base_uri": "https://localhost:8080/"
        },
        "id": "lID2TaoWYD5g",
        "outputId": "58c1e6de-e8fb-4555-c821-61267cc7af18"
      },
      "execution_count": null,
      "outputs": [
        {
          "output_type": "stream",
          "name": "stdout",
          "text": [
            "[[0 1 2 3]\n",
            " [4 5 6 7]]\n",
            "[[ 8  9 10 11]\n",
            " [12 13 14 15]]\n"
          ]
        }
      ]
    },
    {
      "cell_type": "code",
      "source": [
        "left,right=np.hsplit(l1,[2])\n",
        "print(left)\n",
        "print(right)"
      ],
      "metadata": {
        "colab": {
          "base_uri": "https://localhost:8080/"
        },
        "id": "I62phjxDYFHh",
        "outputId": "0f88181c-2a7a-4a69-add5-63c80e63bddf"
      },
      "execution_count": null,
      "outputs": [
        {
          "output_type": "stream",
          "name": "stdout",
          "text": [
            "[[ 0  1]\n",
            " [ 4  5]\n",
            " [ 8  9]\n",
            " [12 13]]\n",
            "[[ 2  3]\n",
            " [ 6  7]\n",
            " [10 11]\n",
            " [14 15]]\n"
          ]
        }
      ]
    },
    {
      "cell_type": "code",
      "source": [
        "left,right=np.hsplit(l1,[3])\n",
        "print(left)\n",
        "print(right)"
      ],
      "metadata": {
        "colab": {
          "base_uri": "https://localhost:8080/"
        },
        "id": "r7hCEGEQYIoH",
        "outputId": "e3f14975-644f-44b7-9af2-b9ae80224474"
      },
      "execution_count": null,
      "outputs": [
        {
          "output_type": "stream",
          "name": "stdout",
          "text": [
            "[[ 0  1  2]\n",
            " [ 4  5  6]\n",
            " [ 8  9 10]\n",
            " [12 13 14]]\n",
            "[[ 3]\n",
            " [ 7]\n",
            " [11]\n",
            " [15]]\n"
          ]
        }
      ]
    },
    {
      "cell_type": "code",
      "source": [
        "#numpy ufuncs(universal function)\n",
        "#array arithematic"
      ],
      "metadata": {
        "id": "3cLqentYYMo4"
      },
      "execution_count": null,
      "outputs": []
    },
    {
      "cell_type": "code",
      "source": [
        "import numpy as np\n",
        "x=np.arange(4)\n",
        "print(x)\n",
        "print()\n",
        "print(x+5)\n",
        "print()\n",
        "print(x-5)\n",
        "print()\n",
        "print(x*2)\n",
        "print()\n",
        "print(x/2)\n",
        "print()\n",
        "print(x//2)\n",
        "print()\n",
        "print(-x)\n",
        "print()\n",
        "print(x**2)\n",
        "print()\n",
        "print(x%2)"
      ],
      "metadata": {
        "colab": {
          "base_uri": "https://localhost:8080/"
        },
        "id": "1DlBisv5YekT",
        "outputId": "227f5b3a-1ebc-488a-fc4b-d18c9bbce9f4"
      },
      "execution_count": null,
      "outputs": [
        {
          "output_type": "stream",
          "name": "stdout",
          "text": [
            "[0 1 2 3]\n",
            "\n",
            "[5 6 7 8]\n",
            "\n",
            "[-5 -4 -3 -2]\n",
            "\n",
            "[0 2 4 6]\n",
            "\n",
            "[0.  0.5 1.  1.5]\n",
            "\n",
            "[0 0 1 1]\n",
            "\n",
            "[ 0 -1 -2 -3]\n",
            "\n",
            "[0 1 4 9]\n",
            "\n",
            "[0 1 0 1]\n"
          ]
        }
      ]
    },
    {
      "cell_type": "code",
      "source": [
        "print(-(0.5*x+1)**2)"
      ],
      "metadata": {
        "colab": {
          "base_uri": "https://localhost:8080/"
        },
        "id": "WS6nDzUNYynz",
        "outputId": "ef68a761-918c-47b8-bb14-e34b6f51c117"
      },
      "execution_count": null,
      "outputs": [
        {
          "output_type": "stream",
          "name": "stdout",
          "text": [
            "[-1.   -2.25 -4.   -6.25]\n"
          ]
        }
      ]
    },
    {
      "cell_type": "code",
      "source": [
        "#universal function in arithematic operations, all these functions works with np.add,np.substract,np.mod etc\n",
        "#add\n",
        "#multiply\n",
        "#substract\n",
        "#negative\n",
        "#divide\n",
        "##mod\n",
        "#power\n",
        "#floor_divide"
      ],
      "metadata": {
        "id": "CcDOYhLaY13q"
      },
      "execution_count": null,
      "outputs": []
    },
    {
      "cell_type": "code",
      "source": [
        "abs(-6) #negative integer to positive integer"
      ],
      "metadata": {
        "colab": {
          "base_uri": "https://localhost:8080/"
        },
        "id": "tpYTQIQJY6Pq",
        "outputId": "4d269086-301d-4bc8-bb72-335e5e252e88"
      },
      "execution_count": null,
      "outputs": [
        {
          "output_type": "execute_result",
          "data": {
            "text/plain": [
              "6"
            ]
          },
          "metadata": {},
          "execution_count": 218
        }
      ]
    },
    {
      "cell_type": "code",
      "source": [
        "a=np.array([-1,-2,-3,-4,-5]) #abs will work with numpy\n",
        "print(abs(a))"
      ],
      "metadata": {
        "colab": {
          "base_uri": "https://localhost:8080/"
        },
        "id": "qCWZAWFCY7Y8",
        "outputId": "847d8964-9922-4b73-f6f1-bd4f681c3575"
      },
      "execution_count": null,
      "outputs": [
        {
          "output_type": "stream",
          "name": "stdout",
          "text": [
            "[1 2 3 4 5]\n"
          ]
        }
      ]
    },
    {
      "cell_type": "code",
      "source": [
        "a=[-1,-2,-3,-4,-5] #abs will not work in list\n",
        "print(np.abs(a))"
      ],
      "metadata": {
        "colab": {
          "base_uri": "https://localhost:8080/"
        },
        "id": "ZokMwiJDZBiJ",
        "outputId": "633b0269-b4ba-4a02-90d8-66cf8b252f55"
      },
      "execution_count": null,
      "outputs": [
        {
          "output_type": "stream",
          "name": "stdout",
          "text": [
            "[1 2 3 4 5]\n"
          ]
        }
      ]
    },
    {
      "cell_type": "code",
      "source": [
        "print(np.absolute(a))"
      ],
      "metadata": {
        "colab": {
          "base_uri": "https://localhost:8080/"
        },
        "id": "j8iO9rGcaDBA",
        "outputId": "505996d0-db76-4bab-e14e-1068e62b4c6c"
      },
      "execution_count": null,
      "outputs": [
        {
          "output_type": "stream",
          "name": "stdout",
          "text": [
            "[1 2 3 4 5]\n"
          ]
        }
      ]
    },
    {
      "cell_type": "code",
      "source": [
        "x=np.arange(1,6)\n",
        "print(np.add.reduce(x))\n",
        "print()\n",
        "print(np.multiply.reduce(x))\n",
        "print()\n",
        "print(np.add.accumulate(x))\n",
        "print()\n",
        "print(np.multiply.accumulate(x))"
      ],
      "metadata": {
        "colab": {
          "base_uri": "https://localhost:8080/"
        },
        "id": "pt-d1Bb8Zfhs",
        "outputId": "995d6d79-5edc-4e39-8050-72238b5da181"
      },
      "execution_count": null,
      "outputs": [
        {
          "output_type": "stream",
          "name": "stdout",
          "text": [
            "15\n",
            "\n",
            "120\n",
            "\n",
            "[ 1  3  6 10 15]\n",
            "\n",
            "[  1   2   6  24 120]\n"
          ]
        }
      ]
    },
    {
      "cell_type": "code",
      "source": [
        "n=np.random.random(100)\n",
        "sum(n) #sum of all random values in array\n",
        "print(np.sum(n))"
      ],
      "metadata": {
        "colab": {
          "base_uri": "https://localhost:8080/"
        },
        "id": "VN_E6qZMaQDt",
        "outputId": "3c393cca-29e9-4c16-991f-1ba3dcb45c76"
      },
      "execution_count": null,
      "outputs": [
        {
          "output_type": "stream",
          "name": "stdout",
          "text": [
            "52.77225132363466\n"
          ]
        }
      ]
    },
    {
      "cell_type": "code",
      "source": [],
      "metadata": {
        "id": "2rAQYX_UbNvU"
      },
      "execution_count": null,
      "outputs": []
    }
  ]
}